{
 "cells": [
  {
   "cell_type": "markdown",
   "metadata": {},
   "source": [
    "what is sql ?\n",
    "structure query langue \n",
    "designe for relational data base management system\n",
    "used for database creation ,fetching ,rows and modifiing rows etc\n",
    "daily bases work store in database and there are two types of data base one is relational and another is non relational\n",
    "relational database is used for storing data in table format and non relational database is used for storing data\n",
    "SQL used for handling  to RDMS .."
   ]
  },
  {
   "cell_type": "markdown",
   "metadata": {},
   "source": [
    "there are four commands in it \n",
    "DDL (Data Definition Language) - used to create, modify and delete alter and drop \n",
    "\n",
    "DCL (Data Control Language) - used to control access to other develpoer GRANT AND REVOKE\n",
    "\n",
    "DML (Data Manipulation Language) - used to perform operations like INSERT, UPDATE, DELETE and select\n",
    "\n",
    "TCL (Transaction control languge ) in ths COMMIT AND ROLLBACK "
   ]
  },
  {
   "cell_type": "markdown",
   "metadata": {},
   "source": [
    "my role as a data scientist in sql is that \n",
    "company ka database ma a kar wahan say data ko extract karna hai then analysis karna \n",
    "join hamary yun kam ka hain ka q k hamari requetment ka data diffrent diffrent tables ma hota ha to join perform kartay hain \n",
    "inner join ,outer join ,left join ,right join ,full join\n"
   ]
  },
  {
   "cell_type": "markdown",
   "metadata": {},
   "source": [
    "what excatly should i learn ?\n",
    "\n",
    "DML COMMANDS     INSERT,DETELE SELECT UPDATE WHERE ORDERBY \n",
    "\n",
    "SQL join \n",
    "\n",
    "subqueries and temp tables \n",
    "\n",
    "SQL CASES \n",
    "\n",
    "store procuder and function \n",
    "\n",
    "window function    this is most important and use at analysis time "
   ]
  },
  {
   "cell_type": "markdown",
   "metadata": {},
   "source": [
    "what excatly i learn ?\n",
    "DATA types \n",
    "\n",
    "Normlization and denormalization \n",
    "\n",
    "indexing \n",
    "\n",
    "Query optimizing practice \n",
    "\n",
    "schma design practice(creating database and table mostly use it when data ko denormalized kar reay hon ) "
   ]
  },
  {
   "cell_type": "markdown",
   "metadata": {},
   "source": [
    "ER diagram     this is used for non technical users jis ko database ka baray ma info nea ha i used for that lucid chart\n",
    "\n",
    "\n",
    "and select entities for ER DIAGRAM like food ,orders ,customer restruratnt \n",
    "\n",
    "set the datatypes of the entities like int ,varchar ,date etc\n",
    "\n",
    "primary key uniquely identify hoti ha in each row in a table \n",
    "\n",
    "foreieng key links to diffrent rows and differnt tables "
   ]
  }
 ],
 "metadata": {
  "language_info": {
   "name": "python"
  }
 },
 "nbformat": 4,
 "nbformat_minor": 2
}

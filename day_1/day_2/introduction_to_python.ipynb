{
 "cells": [
  {
   "cell_type": "markdown",
   "metadata": {},
   "source": [
    "1. As a data scientic python is not mandatory to learn it .\n",
    "2. Tabelua and power bi and R langague is also used in this \n",
    "3. If python libraries got command so it can use for the other languages "
   ]
  },
  {
   "cell_type": "markdown",
   "metadata": {},
   "source": [
    "# What is machine learning \n",
    "phichlay data ka baray ma information la kar usmay say trend nikalay ka data kya kah raha ha phr hamnay prediction bnai for the next year is called machine learning \n",
    "\n",
    "e.g \n",
    "ma 50 years ka pakistan ka data leta hon then ma predict karta hn ka dollar ki cost next 5 days ma kya hogi ya predict karna this is called machine learning "
   ]
  }
 ],
 "metadata": {
  "kernelspec": {
   "display_name": "Python 3",
   "language": "python",
   "name": "python3"
  },
  "language_info": {
   "codemirror_mode": {
    "name": "ipython",
    "version": 3
   },
   "file_extension": ".py",
   "mimetype": "text/x-python",
   "name": "python",
   "nbconvert_exporter": "python",
   "pygments_lexer": "ipython3",
   "version": "3.13.1"
  }
 },
 "nbformat": 4,
 "nbformat_minor": 2
}

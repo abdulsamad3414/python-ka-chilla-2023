{
 "cells": [
  {
   "cell_type": "markdown",
   "metadata": {},
   "source": [
    "1. git hub student developer pack solution \n",
    "2. so that we obtained multiple certification in one go\n",
    "3. untick outtime and timeline due to burgs in programming "
   ]
  }
 ],
 "metadata": {
  "language_info": {
   "name": "python"
  }
 },
 "nbformat": 4,
 "nbformat_minor": 2
}

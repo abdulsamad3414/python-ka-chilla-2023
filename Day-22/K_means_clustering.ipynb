{
 "cells": [
  {
   "cell_type": "markdown",
   "id": "e72b4089",
   "metadata": {},
   "source": [
    "# K-Means Clustering\n",
    "\n",
    "ismay different diffrent clutsers bunty hain \n",
    "\n",
    "ismay sirf x hota ha target column nea hota \n",
    "\n",
    "ya unsupervise machine learning ki example ha "
   ]
  },
  {
   "cell_type": "code",
   "execution_count": null,
   "id": "b8a7bfd7",
   "metadata": {},
   "outputs": [
    {
     "ename": "",
     "evalue": "",
     "output_type": "error",
     "traceback": [
      "\u001b[1;31mThe kernel failed to start due to the missing module 'IPython'. Consider installing this module.\n",
      "\u001b[1;31mClick <a href='https://aka.ms/kernelFailuresMissingModule'>here</a> for more info."
     ]
    }
   ],
   "source": [
    "import pandas as pd\n",
    "import numpy as np\n",
    "import matplotlib.pyplot as plt\n",
    "import seaborn as sns\n",
    "df=sns.load_dataset('titanic')  \n",
    "df.head()"
   ]
  },
  {
   "cell_type": "code",
   "execution_count": null,
   "id": "6fc25b64",
   "metadata": {},
   "outputs": [],
   "source": [
    "# model \n",
    "from sklearn.cluster import KMeans\n",
    "from sklearn.preprocessing import StandardScaler # For normalize the data \n",
    "# Import the data in feature columns \n",
    "X=df[['age','fare']]\n",
    "# filled with mean value\n",
    "X['age']=X['age'].fillna(X['age'].mean())\n",
    "X['fare']=X['fare'].fillna(X['fare'].mean())\n",
    "\n",
    "# Normalize the data \n",
    "scaler = StandardScaler()\n",
    "X_scaled = scaler.fit_transform(X)\n",
    "\n"
   ]
  },
  {
   "cell_type": "code",
   "execution_count": null,
   "id": "8b0ec2db",
   "metadata": {},
   "outputs": [],
   "source": [
    "X.head()"
   ]
  },
  {
   "cell_type": "code",
   "execution_count": null,
   "id": "c1b73b98",
   "metadata": {},
   "outputs": [],
   "source": [
    "X_scaled # in standard scaling from -3 to 3"
   ]
  },
  {
   "cell_type": "code",
   "execution_count": null,
   "id": "88adcc98",
   "metadata": {},
   "outputs": [],
   "source": [
    "# Perform K-means clustering\n",
    "kmeans = KMeans(n_clusters=5, random_state=0)\n",
    "kmeans.fit(X_scaled)\n",
    "\n",
    "#Assign Cluster Labels to the data \n",
    "df['cluster'] = kmeans.labels_\n",
    "df"
   ]
  },
  {
   "cell_type": "code",
   "execution_count": null,
   "id": "a6a11683",
   "metadata": {},
   "outputs": [],
   "source": [
    "df[\"cluster\"].value_counts()"
   ]
  },
  {
   "cell_type": "code",
   "execution_count": null,
   "id": "3ecd5460",
   "metadata": {},
   "outputs": [],
   "source": [
    "sns.scatterplot(x=\"age\", y=\"fare\", hue=\"cluster\", data=df)\n",
    "plt.show()"
   ]
  },
  {
   "cell_type": "code",
   "execution_count": null,
   "id": "7518ec05",
   "metadata": {},
   "outputs": [],
   "source": [
    "# show plots via plotly \n",
    "import plotly.express as px\n",
    "fig = px.scatter(df, x=\"age\", y=\"fare\", color=\"cluster\")\n",
    "fig.show()"
   ]
  },
  {
   "cell_type": "code",
   "execution_count": null,
   "id": "d71fad75",
   "metadata": {},
   "outputs": [],
   "source": [
    "fig=px.scatter_3d(df,x=\"age\",y=\"fare\",z=\"pclass\",color=\"cluster\")\n",
    "fig.show()"
   ]
  },
  {
   "cell_type": "code",
   "execution_count": null,
   "id": "82a81293",
   "metadata": {},
   "outputs": [],
   "source": [
    "# parallel_coordinates(df, \"cluster\")\n",
    "fig=px.parallel_coordinates(df, color=\"cluster\") # this is a Multi Dimensional plot\n",
    "fig.show()"
   ]
  },
  {
   "cell_type": "code",
   "execution_count": null,
   "id": "196a8612",
   "metadata": {},
   "outputs": [],
   "source": [
    "# save the model\n",
    "import joblib\n",
    "joblib.dump(kmeans, 'kmeans_Clustering.joblib')"
   ]
  },
  {
   "cell_type": "code",
   "execution_count": null,
   "id": "cf5220dc",
   "metadata": {},
   "outputs": [],
   "source": [
    "# Load the save model\n",
    "kmeans = joblib.load('kmeans_Clustering.joblib')"
   ]
  },
  {
   "cell_type": "markdown",
   "id": "61ac6560",
   "metadata": {},
   "source": [
    "# Decision Tree Classifier"
   ]
  },
  {
   "cell_type": "code",
   "execution_count": null,
   "id": "54c80e43",
   "metadata": {},
   "outputs": [],
   "source": [
    "import seaborn as sns\n",
    "df_1=sns.load_dataset('tips')\n",
    "df_1.head()"
   ]
  },
  {
   "cell_type": "code",
   "execution_count": null,
   "id": "ddc87514",
   "metadata": {},
   "outputs": [],
   "source": [
    "X=df_1.drop(\"sex\",axis=1)\n",
    "y=df_1['sex']"
   ]
  },
  {
   "cell_type": "code",
   "execution_count": null,
   "id": "2a25b45a",
   "metadata": {},
   "outputs": [],
   "source": [
    "X.head()"
   ]
  },
  {
   "cell_type": "code",
   "execution_count": null,
   "id": "17014bba",
   "metadata": {},
   "outputs": [],
   "source": [
    "X.shape"
   ]
  },
  {
   "cell_type": "code",
   "execution_count": null,
   "id": "02c2b057",
   "metadata": {},
   "outputs": [],
   "source": [
    "y"
   ]
  },
  {
   "cell_type": "code",
   "execution_count": null,
   "id": "48af9f9e",
   "metadata": {},
   "outputs": [],
   "source": [
    "cat_col=[\"smoker\",\"day\",\"time\"]\n",
    "X=pd.get_dummies(X,columns=cat_col)\n",
    "X"
   ]
  },
  {
   "cell_type": "code",
   "execution_count": null,
   "id": "fbf42c10",
   "metadata": {},
   "outputs": [],
   "source": [
    "from sklearn.tree import DecisionTreeClassifier\n",
    "DT=DecisionTreeClassifier()\n",
    "DT.fit(X,y)"
   ]
  },
  {
   "cell_type": "code",
   "execution_count": null,
   "id": "16de8ff0",
   "metadata": {},
   "outputs": [],
   "source": [
    "joblib.dump(DT,\"tipswalamodel.joblib\")"
   ]
  },
  {
   "cell_type": "code",
   "execution_count": null,
   "id": "ff5bde23",
   "metadata": {},
   "outputs": [],
   "source": [
    "# if we want to load model \n",
    "DT=joblib.load('tipswalamodel.joblib')\n"
   ]
  }
 ],
 "metadata": {
  "kernelspec": {
   "display_name": "tf_env",
   "language": "python",
   "name": "python3"
  },
  "language_info": {
   "codemirror_mode": {
    "name": "ipython",
    "version": 3
   },
   "file_extension": ".py",
   "mimetype": "text/x-python",
   "name": "python",
   "nbconvert_exporter": "python",
   "pygments_lexer": "ipython3",
   "version": "3.13.5"
  }
 },
 "nbformat": 4,
 "nbformat_minor": 5
}

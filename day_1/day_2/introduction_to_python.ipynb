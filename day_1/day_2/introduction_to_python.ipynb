{
 "cells": [
  {
   "cell_type": "markdown",
   "metadata": {},
   "source": [
    "1. As a data scientic python is not mandatory to learn it .\n",
    "2. Tabelua and power bi and R langague is also used in this \n",
    "3. If python libraries got command so it can use for the other languages "
   ]
  },
  {
   "cell_type": "markdown",
   "metadata": {},
   "source": [
    "# What is machine learning \n",
    "phichlay data ka baray ma information la kar usmay say trend nikalay ka data kya kah raha ha phr hamnay prediction bnai for the next year is called machine learning \n",
    "\n",
    "e.g \n",
    "ma 50 years ka pakistan ka data leta hon then ma predict karta hn ka dollar ki cost next 5 days ma kya hogi ya predict karna this is called machine learning "
   ]
  }
 ],
 "metadata": {
  "language_info": {
   "name": "python"
  }
 },
 "nbformat": 4,
 "nbformat_minor": 2
}

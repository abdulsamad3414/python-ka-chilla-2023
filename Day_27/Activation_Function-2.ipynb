{
 "cells": [
  {
   "cell_type": "markdown",
   "id": "f52c1e92",
   "metadata": {},
   "source": [
    "# Activation Function \n",
    "\n",
    "convert linear function to non linearn function and convert it into classification "
   ]
  },
  {
   "cell_type": "markdown",
   "id": "d22a3048",
   "metadata": {},
   "source": [
    "# Types of Activation Functions\n",
    "\n",
    "Linear activation Function \n",
    "\n",
    "step activation function \n",
    "\n",
    "sigmoid activation function \n",
    "\n",
    "tanH activation Function \n",
    "\n",
    "Relu Activation Function \n",
    "\n",
    "Softmax Activation Function "
   ]
  },
  {
   "cell_type": "markdown",
   "id": "93b5ad65",
   "metadata": {},
   "source": [
    "# Why need activation function ?\n",
    "\n",
    "Data is Non Structure \n",
    "\n",
    "No define line between useful and non useful data \n",
    "\n",
    "Noisy data will not give reqiured output\n",
    "\n",
    "simply is that jo bi noisy data a raha ha usy set karnay ma help karta ha "
   ]
  },
  {
   "cell_type": "markdown",
   "id": "7a7e7e00",
   "metadata": {},
   "source": [
    "# Linear Activation function \n",
    "\n",
    "input leta ha or output deta ha output linear hi hoga input ma kitna hi change karalain\n",
    "\n",
    "# Non Linear Activation Function \n",
    "\n",
    "wo hota ha jis may ham input parameters ma chnages kartay hain to hamara output sai hojata ha because uskay under activation function add hota ha "
   ]
  }
 ],
 "metadata": {
  "language_info": {
   "name": "python"
  }
 },
 "nbformat": 4,
 "nbformat_minor": 5
}

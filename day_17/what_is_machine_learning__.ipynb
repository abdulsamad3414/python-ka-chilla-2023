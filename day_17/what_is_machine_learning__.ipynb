{
  "nbformat": 4,
  "nbformat_minor": 0,
  "metadata": {
    "colab": {
      "provenance": []
    },
    "kernelspec": {
      "name": "python3",
      "display_name": "Python 3"
    },
    "language_info": {
      "name": "python"
    }
  },
  "cells": [
    {
      "cell_type": "code",
      "execution_count": 1,
      "metadata": {
        "id": "FbEJrnTCdu_-"
      },
      "outputs": [],
      "source": [
        "from google.colab import files\n",
        "from IPython.display import Image  # for images"
      ]
    },
    {
      "cell_type": "code",
      "source": [
        "# uploaded=files.upload()"
      ],
      "metadata": {
        "id": "NNnrdwc8gCt-"
      },
      "execution_count": 2,
      "outputs": []
    },
    {
      "cell_type": "code",
      "source": [
        "# Image('Screenshot 2024-11-04 141827.jpg')"
      ],
      "metadata": {
        "id": "QcaOBCWIgVMP"
      },
      "execution_count": 3,
      "outputs": []
    },
    {
      "cell_type": "markdown",
      "source": [
        "# Supervised machine learning\n",
        "\n",
        " 1. this will work under supervision (means that koi na koi data ho)\n",
        " 2. teacher teaches\n",
        " 3. prediction\n",
        " 4. outcomes"
      ],
      "metadata": {
        "id": "uFxBSc0SmGuU"
      }
    },
    {
      "cell_type": "markdown",
      "source": [
        "# types\n",
        "\n",
        "1. Classification\n",
        "    1. for categories (names ,height,weight)\n",
        "2. Regression\n",
        "    1. For numerical data (numbers)"
      ],
      "metadata": {
        "id": "iALjgwwsmjSD"
      }
    },
    {
      "cell_type": "markdown",
      "source": [
        "# Supervised learning algorithms:\n",
        "\n",
        "1. Logistic Regression\n",
        "2. K-Nearest Neighbors(K-NN)\n",
        "3. Support Vector Machine (SVM)\n",
        "4. Kernel SVM\n",
        "5. Naive Bayes\n",
        "6. Decision Tree Classification\n",
        "7. Random Forest Classification"
      ],
      "metadata": {
        "id": "5kr-gOB8nMrD"
      }
    },
    {
      "cell_type": "markdown",
      "source": [
        "# Unsupervised /clustering\n",
        "\n",
        "1. no supervision\n",
        "2. no teacher\n",
        "3. self learning\n",
        "4. no labeling of data\n",
        "5. find pattern by yourself"
      ],
      "metadata": {
        "id": "bZm2S0ui0Q5V"
      }
    },
    {
      "cell_type": "markdown",
      "source": [
        "# Semi supervised learning\n",
        "\n",
        "1. Mixed of 1 and 2\n",
        "2. some data is labelled most is not"
      ],
      "metadata": {
        "id": "7Hrr5KXF0kIO"
      }
    },
    {
      "cell_type": "markdown",
      "source": [
        "# Reinforcement\n",
        "\n",
        "already discussed in day 16"
      ],
      "metadata": {
        "id": "edIg-aKG066w"
      }
    },
    {
      "cell_type": "code",
      "source": [
        "# create Model\n",
        "# model =LinearRegression()\n",
        "\n",
        "\n",
        "# model learn\n",
        "# model =fit(x , y)\n",
        "\n",
        "# prediction\n",
        "# model.predict(x)    here x is the independent variable and this is input"
      ],
      "metadata": {
        "id": "ghnhvDoN2Lyt"
      },
      "execution_count": 4,
      "outputs": []
    },
    {
      "cell_type": "markdown",
      "source": [
        "# simple linear Regression\n",
        "\n",
        "1. relationship between 2 variables\n",
        "\n",
        "2. Equation y=a +bx (here x is the independent and y is dependent variable)\n"
      ],
      "metadata": {
        "id": "70dakPY-6t9V"
      }
    },
    {
      "cell_type": "markdown",
      "source": [
        "# Multi linear Regression\n",
        "\n",
        "1. more than 2 independet variable"
      ],
      "metadata": {
        "id": "M2Ig_LBT8NU9"
      }
    },
    {
      "cell_type": "markdown",
      "source": [
        "# Classification\n",
        "\n",
        "1. Binary Classification  (only 0 and 1 present )\n",
        "2. Multi-Class classification(man,chil,women)"
      ],
      "metadata": {
        "id": "RP558nLh81EL"
      }
    },
    {
      "cell_type": "markdown",
      "source": [],
      "metadata": {
        "id": "6_e8JuMac_8R"
      }
    },
    {
      "cell_type": "markdown",
      "source": [],
      "metadata": {
        "id": "4VbBGzOZdARJ"
      }
    },
    {
      "cell_type": "markdown",
      "source": [
        "# Decision Tree Classification\n",
        "\n",
        "Decision tree algorithm are non parametric supervised learning method used for 'CLASSIFICATION ' and 'REGRESSION '\n",
        "\n",
        "In this categorical and regression both are present"
      ],
      "metadata": {
        "id": "sdkatGf79tSv"
      }
    },
    {
      "cell_type": "markdown",
      "source": [
        "# K-nearest"
      ],
      "metadata": {
        "id": "lkVyltUGDXeB"
      }
    },
    {
      "cell_type": "markdown",
      "source": [
        "# in machine learning scikit learn website explore"
      ],
      "metadata": {
        "id": "iW9cyeTFcznB"
      }
    }
  ]
}
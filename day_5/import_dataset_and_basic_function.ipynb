{
 "cells": [
  {
   "cell_type": "markdown",
   "metadata": {},
   "source": [
    "# Data frame \n",
    "1. contain row and coulmn ,units ,index and variables (hader) "
   ]
  },
  {
   "cell_type": "markdown",
   "metadata": {},
   "source": [
    "# tyoe of data \n",
    "1. primary data ...........generated itself \n",
    "2. secondry data ..........all website data called secondary data \n",
    "   1. seconadry data set websites are ...\n",
    "     1. kaggle.com\n",
    "     2. google data setsealer\n",
    "     3. github.com\n",
    "     4. faostats.com\n",
    "     5. stats\n",
    "     6. NADRA\n",
    "     7. wikipedia\n",
    "     8. crime detection DNA forensics\n",
    "     9. business analytics data .....stock exchange data\n",
    "     10. university dataset \n",
    "     11. reserch paper \n"
   ]
  },
  {
   "cell_type": "code",
   "execution_count": null,
   "metadata": {
    "vscode": {
     "languageId": "plaintext"
    }
   },
   "outputs": [],
   "source": []
  },
  {
   "cell_type": "markdown",
   "metadata": {},
   "source": [
    "# Data \n",
    "1. ham isy insides nikalaty hain iskay trends ko dikhty howe data ko analysis karna or future prediction karna ya data scince kahlati ha  "
   ]
  }
 ],
 "metadata": {
  "language_info": {
   "name": "python"
  }
 },
 "nbformat": 4,
 "nbformat_minor": 2
}

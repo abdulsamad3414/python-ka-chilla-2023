{
 "cells": [
  {
   "cell_type": "markdown",
   "metadata": {},
   "source": [
    "# What is business inteligence"
   ]
  },
  {
   "cell_type": "markdown",
   "metadata": {},
   "source": [
    "1. Business Inteligence involve the strategies and technologies used by enterprises for the data analysis of business information.BI provide historical ,current and predictive views of business operations.\n",
    "2. power bi is the tool that handle and help the business to make the decision by using the data analysis and visualization. It is the part of the Microsoft product.\n"
   ]
  },
  {
   "cell_type": "markdown",
   "metadata": {},
   "source": [
    "# Purpose of Power Bi tool"
   ]
  },
  {
   "cell_type": "markdown",
   "metadata": {},
   "source": [
    "1. The main purpose od BI is to support better decision-making,essentionally,BI uses service and software to transform data into actionable insights that inform an organization's stratigic and tactic business decisions."
   ]
  },
  {
   "cell_type": "markdown",
   "metadata": {},
   "source": [
    "1. curennt data historical data and future data prediction called business intelligence"
   ]
  },
  {
   "cell_type": "markdown",
   "metadata": {},
   "source": [
    "# Tool and Processes "
   ]
  },
  {
   "cell_type": "markdown",
   "metadata": {},
   "source": [
    "1. BI tool access and analyze dataset and present analytic findings in reports,summeries ,dashbords,graphs ,chart and maps to provide user with detailed inteligence about the state of the business.\n",
    "2. As a data analyst, I will be responsible for creating and maintaining data visualizations, reports, and dashboards to communicate insights and trends to stakeholders.\n",
    "3. for example i am a pen seller and in karachi market this pen is selling at 1000 rs and in lahore market this pen is selling at 800 rs....this information will be provide though data just to increase the sell and business ."
   ]
  },
  {
   "cell_type": "markdown",
   "metadata": {},
   "source": [
    "# Why power Bi Tool\n",
    "1. Integration and accessibility: Power Bi integrates well with existing applications,allowing for automatic extraction and interpretation of data.This ease to use extends its accessibility ,allowing non-techinical users to genrate reports and insights.\n",
    "2. Real time Processing :power bi dashborads provide real time view of business with capability to update automatically as data refreshes.This means decision can be made promtly based on the latest data available.\n",
    "3. Rich customization "
   ]
  },
  {
   "cell_type": "markdown",
   "metadata": {},
   "source": [
    "# Power bi products /ecosystem \n",
    "1. power bi desktop \n",
    "2. power bi service \n",
    "3. power bi mobile \n",
    "4. power bi report server\n",
    "5. power bi embaded"
   ]
  },
  {
   "cell_type": "markdown",
   "metadata": {},
   "source": [
    "# Summary for Bi \n",
    "   1. Business inteligence (BI ) this is technology driven process for analyzing data and present actionable information to help executives ,manager.\n",
    "   2. power bi is the tool which called us to make a decisin making process easy and fast .\n",
    "   3. tebelue is also use for business inteligence \n",
    "   4. python is also use for business inteligence"
   ]
  },
  {
   "cell_type": "markdown",
   "metadata": {},
   "source": [
    "# Work flow of Power Bi \n",
    "1. connect your data \n",
    "2. Transform your data (handle missing ,nan values and remove the outliers remove duplicates )\n",
    "3. Data Modelling (konsa data haramay kam ka ha or business ko grow karayga wo data letay hain )\n",
    "4. Create visualizations ( charts , tables , maps )\n",
    "5. Create the reports ( make sure this report will be making for my local audinence or global audience ,bosses or stakeholders )\n",
    "6. Publish Report in power Bi Serice (if i have internally enterprices server to it can be publish so that all people watch these reports and tell me mistakes in my reports  )\n",
    "7. Distributes Reports "
   ]
  },
  {
   "cell_type": "markdown",
   "metadata": {},
   "source": [
    "# what is DAX query in power bi\n",
    "1. \"DAX queries are a powerful way to retrieve and analyze data in Power BI. They help in extracting meaningful insights from large datasets by enabling complex calculations and transformations. Mastering DAX queries is essential for building dynamic and effective Power BI reports.\""
   ]
  },
  {
   "cell_type": "markdown",
   "metadata": {},
   "source": [
    "# Advantages \n",
    "1. data say la kar transformation ,modelling ,prediction and repotrs ya saray kam ak hi software ma hojatay hain "
   ]
  }
 ],
 "metadata": {
  "language_info": {
   "name": "python"
  }
 },
 "nbformat": 4,
 "nbformat_minor": 2
}

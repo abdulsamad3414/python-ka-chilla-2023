{
 "cells": [
  {
   "cell_type": "markdown",
   "metadata": {},
   "source": [
    "# variable \n",
    "# pron:\n",
    "1. its reduce the human efforts forcoding \n",
    "2. easy to write for dataset\n",
    "3. Easy to recall \n",
    "\n",
    "# strategy\n",
    "1. no use resvers burds of python like if,else ,while ,print and so on and true false etc etc \n",
    "2. always use short words (max 2 ) e.g samosa \n",
    "3. Dont use start with number in variables at the bignning \n",
    "4. capitalize na karain \n",
    "5. meaningfull hona chayae (mjay mera data ka pta hona chayae agar titanic ka dataset ha to ham kashti ,variable le sukaty hain )\n",
    "6. dont ever repeat the same variable \n",
    "7. use global variable for all the data (df=dataframe)\n",
    "8. operators use nea karnay (/,+,-*) \n",
    "9. dont use \"\" during call/during print "
   ]
  },
  {
   "cell_type": "code",
   "execution_count": 4,
   "metadata": {},
   "outputs": [
    {
     "name": "stdout",
     "output_type": "stream",
     "text": [
      "('keema', 'kabaaab')\n",
      "<class 'tuple'>\n"
     ]
    }
   ],
   "source": [
    "samosa =('keema','kabaaab')\n",
    "print(samosa)\n",
    "print(type(samosa))"
   ]
  },
  {
   "cell_type": "code",
   "execution_count": 5,
   "metadata": {},
   "outputs": [
    {
     "name": "stdout",
     "output_type": "stream",
     "text": [
      "<class 'str'>\n"
     ]
    }
   ],
   "source": [
    "# Input function \n",
    "name =input ('Enter your name :')\n",
    "print(type(name ))"
   ]
  },
  {
   "cell_type": "markdown",
   "metadata": {},
   "source": [
    "# Conditonal logic"
   ]
  },
  {
   "cell_type": "markdown",
   "metadata": {},
   "source": [
    "==\n",
    ">\n",
    "<\n",
    ">=\n",
    "!="
   ]
  }
 ],
 "metadata": {
  "kernelspec": {
   "display_name": "Python 3",
   "language": "python",
   "name": "python3"
  },
  "language_info": {
   "codemirror_mode": {
    "name": "ipython",
    "version": 3
   },
   "file_extension": ".py",
   "mimetype": "text/x-python",
   "name": "python",
   "nbconvert_exporter": "python",
   "pygments_lexer": "ipython3",
   "version": "3.13.1"
  }
 },
 "nbformat": 4,
 "nbformat_minor": 2
}

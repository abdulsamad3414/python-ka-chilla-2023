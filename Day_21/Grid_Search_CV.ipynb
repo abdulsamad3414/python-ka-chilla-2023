{
 "cells": [
  {
   "cell_type": "code",
   "execution_count": null,
   "id": "28497233",
   "metadata": {},
   "outputs": [
    {
     "ename": "",
     "evalue": "",
     "output_type": "error",
     "traceback": [
      "\u001b[1;31mThe kernel failed to start due to the missing module 'IPython'. Consider installing this module.\n",
      "\u001b[1;31mClick <a href='https://aka.ms/kernelFailuresMissingModule'>here</a> for more info."
     ]
    }
   ],
   "source": [
    "# load the linear regression model from sklearn\n",
    "from sklearn.linear_model import LinearRegression\n",
    "model= LinearRegression()\n",
    "\n",
    "# # get the parameter list \n",
    "print(model.get_params())"
   ]
  },
  {
   "cell_type": "code",
   "execution_count": null,
   "id": "9dfdbfba",
   "metadata": {},
   "outputs": [],
   "source": [
    "from sklearn.ensemble import RandomForestRegressor\n",
    "model = RandomForestRegressor()\n",
    "# # get the parameter list \n",
    "print(model.get_params())"
   ]
  },
  {
   "cell_type": "code",
   "execution_count": null,
   "id": "c9526511",
   "metadata": {},
   "outputs": [],
   "source": [
    "from sklearn.tree import DecisionTreeRegressor\n",
    "model = DecisionTreeRegressor()\n",
    "# # get the parameter list  \n",
    "print(model.get_params())"
   ]
  },
  {
   "cell_type": "code",
   "execution_count": null,
   "id": "896e184d",
   "metadata": {},
   "outputs": [],
   "source": [
    "from sklearn.neighbors import KNeighborsRegressor\n",
    "model = KNeighborsRegressor()\n",
    "\n",
    "# # get the parameter list\n",
    "print(model.get_params())"
   ]
  },
  {
   "cell_type": "code",
   "execution_count": null,
   "id": "656fda80",
   "metadata": {},
   "outputs": [],
   "source": [
    "from sklearn.svm import SVR\n",
    "model = SVR()\n",
    "# # get the parameter list\n",
    "print(model.get_params())"
   ]
  },
  {
   "cell_type": "code",
   "execution_count": null,
   "id": "2a38fbc4",
   "metadata": {},
   "outputs": [],
   "source": [
    "#  LinearRegression\n",
    "import pandas as pd\n",
    "import seaborn as sns \n",
    "\n",
    "df=sns.load_dataset('titanic')\n",
    "df[\"age\"].fillna(df[\"age\"].mean(), inplace=True)\n",
    "X=df[[\"age\"]]\n",
    "y=df[\"fare\"]\n",
    "# model=LinearRegression()\n",
    "from sklearn.linear_model import LinearRegression\n",
    "from sklearn.model_selection import GridSearchCV\n",
    "\n",
    "# Create the model\n",
    "model = LinearRegression()\n",
    "# Define parameter_grid\n",
    "param_grid = {'fit_intercept': [True, False]}\n",
    "# Create a GridSearchCV object\n",
    "grid_search = GridSearchCV(model, param_grid, cv=5,scoring='r2')\n",
    "\n",
    "# Fit the grid search object to the data\n",
    "grid_search.fit(X,y)\n",
    "\n",
    "# Print the best parameters\n",
    "print(\"Best Score:\", grid_search.best_params_)\n",
    "print(\"Best Score:\", grid_search.best_score_)\n",
    "\n"
   ]
  },
  {
   "cell_type": "code",
   "execution_count": null,
   "id": "7e18c86e",
   "metadata": {},
   "outputs": [],
   "source": [
    "df.columns"
   ]
  },
  {
   "cell_type": "markdown",
   "id": "143ffc56",
   "metadata": {},
   "source": [
    "# KNN GridSerch Cv"
   ]
  },
  {
   "cell_type": "code",
   "execution_count": null,
   "id": "12b93988",
   "metadata": {},
   "outputs": [],
   "source": [
    "df[\"pclass\"].isnull().sum()"
   ]
  },
  {
   "cell_type": "code",
   "execution_count": null,
   "id": "1fe84a28",
   "metadata": {},
   "outputs": [],
   "source": [
    "df[\"pclass\"].value_counts()"
   ]
  },
  {
   "cell_type": "code",
   "execution_count": null,
   "id": "a2cda03e",
   "metadata": {},
   "outputs": [],
   "source": [
    "import pandas as pd\n",
    "import seaborn as sns \n",
    "import numpy as np\n",
    "\n",
    "df=sns.load_dataset('titanic')\n",
    "# df[\"pclass\"].fillna(df[\"pclass\"].mode()[0], inplace=True)\n",
    "# sex convert into o and 1 \n",
    "X=df[[\"age\",\"pclass\",\"sex\",\"sibsp\",\"parch\",\"fare\"]]\n",
    "# X=pd.get_dummies(X,columns=[\"sex\"])\n",
    "X[\"sex\"]=X[\"sex\"].map({\"male\":0,\"female\":1})\n",
    "\n",
    "X.age.fillna(value=X[\"age\"].mean(), inplace=True)\n",
    "y=df[\"survived\"]\n",
    "# model=KNNneighbours()\n",
    "from sklearn.neighbors import KNeighborsRegressor\n",
    "from sklearn.model_selection import GridSearchCV\n",
    "\n",
    "# Create the model\n",
    "model = KNeighborsRegressor()\n",
    "# Define parameter_grid\n",
    "param_grid = {'n_neighbors': list(range(1,30,2)), 'weights': ['uniform', 'distance']}\n",
    "\n",
    "# Create a GridSearchCV object\n",
    "grid_search = GridSearchCV(model, param_grid, cv=5,scoring=\"f1\") # kis parameter ki behalf par hamnay best score lena ha\n",
    "\n",
    "# Fit the grid search object to the data\n",
    "grid_search.fit(X,y)\n",
    "\n",
    "# Print the best parameters\n",
    "print(\"Best Parameters:\", grid_search.best_params_)\n",
    "# Print the best score\n",
    "print(\"Best Score:\", grid_search.best_score_)"
   ]
  },
  {
   "cell_type": "markdown",
   "id": "0d424b61",
   "metadata": {},
   "source": [
    "# Decision tree "
   ]
  },
  {
   "cell_type": "code",
   "execution_count": null,
   "id": "29e7c79b",
   "metadata": {},
   "outputs": [],
   "source": [
    "import pandas as pd\n",
    "import seaborn as sns \n",
    "import numpy as np\n",
    "\n",
    "df=sns.load_dataset('titanic')\n",
    "df[\"pclass\"].fillna(df[\"pclass\"].mode()[0], inplace=True)\n",
    "# sex convert into o and 1 \n",
    "X=df[[\"age\",\"pclass\",\"sex\",\"sibsp\",\"parch\",\"fare\"]]\n",
    "X=pd.get_dummies(X,columns=[\"sex\"])\n",
    "\n",
    "X.age.fillna(value=X[\"age\"].mean(), inplace=True)\n",
    "y=df[\"survived\"]\n",
    "# model=KNNneighbours()\n",
    "from sklearn.tree import DecisionTreeRegressor\n",
    "from sklearn.model_selection import GridSearchCV\n",
    "\n",
    "# Create the model\n",
    "model = DecisionTreeRegressor()\n",
    "# Define parameter_grid\n",
    "param_grid = {'max_depth': [3,5,7,None], 'min_samples_split': [2,3,4]}\n",
    "\n",
    "# Create a GridSearchCV object\n",
    "grid_search = GridSearchCV(model, param_grid, cv=5,scoring=\"f1\") # kis parameter ki behalf par hamnay best score lena ha\n",
    "\n",
    "# Fit the grid search object to the data\n",
    "grid_search.fit(X,y)\n",
    "\n",
    "# Print the best parameters\n",
    "print(\"Best Parameters:\", grid_search.best_params_)\n",
    "# Print the best score\n",
    "print(\"Best Score:\", grid_search.best_score_)"
   ]
  },
  {
   "cell_type": "markdown",
   "id": "ac179f02",
   "metadata": {},
   "source": [
    "Randomforest"
   ]
  },
  {
   "cell_type": "code",
   "execution_count": null,
   "id": "c0e3b05e",
   "metadata": {},
   "outputs": [],
   "source": [
    "import pandas as pd\n",
    "import seaborn as sns \n",
    "import numpy as np\n",
    "\n",
    "df=sns.load_dataset('titanic')\n",
    "# df[\"pclass\"].fillna(df[\"pclass\"].mode()[0], inplace=True)\n",
    "# sex convert into o and 1 \n",
    "X=df[[\"age\",\"pclass\",\"sex\",\"sibsp\",\"parch\",\"fare\"]]\n",
    "# X=pd.get_dummies(X,columns=[\"sex\"])\n",
    "X[\"sex\"]=X[\"sex\"].map({\"male\":0,\"female\":1})\n",
    "\n",
    "X.age.fillna(value=X[\"age\"].mean(), inplace=True)\n",
    "y=df[\"survived\"]\n",
    "# model=KNNneighbours()\n",
    "from sklearn.ensemble import RandomForestRegressor\n",
    "from sklearn.model_selection import GridSearchCV\n",
    "\n",
    "# Create the model\n",
    "model = RandomForestRegressor()\n",
    "# Define parameter_grid\n",
    "param_grid = {\"n_estimators\": [10,50,100], \"max_depth\": [3,5,7], \"min_samples_split\": [2,3,4]}\n",
    "\n",
    "# Create a GridSearchCV object\n",
    "grid_search = GridSearchCV(model, param_grid, cv=5,scoring=\"f1\") # kis parameter ki behalf par hamnay best score lena ha\n",
    "\n",
    "# Fit the grid search object to the data\n",
    "grid_search.fit(X,y)\n",
    "\n",
    "# Print the best parameters\n",
    "print(\"Best Parameters:\", grid_search.best_params_)\n",
    "# Print the best score\n",
    "print(\"Best Score:\", grid_search.best_score_)"
   ]
  }
 ],
 "metadata": {
  "kernelspec": {
   "display_name": "tf_env",
   "language": "python",
   "name": "python3"
  },
  "language_info": {
   "codemirror_mode": {
    "name": "ipython",
    "version": 3
   },
   "file_extension": ".py",
   "mimetype": "text/x-python",
   "name": "python",
   "nbconvert_exporter": "python",
   "pygments_lexer": "ipython3",
   "version": "3.13.5"
  }
 },
 "nbformat": 4,
 "nbformat_minor": 5
}

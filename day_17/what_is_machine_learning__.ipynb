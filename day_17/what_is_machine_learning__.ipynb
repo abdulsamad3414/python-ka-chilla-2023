{
 "cells": [
  {
   "cell_type": "code",
   "execution_count": null,
   "metadata": {
    "id": "FbEJrnTCdu_-"
   },
   "outputs": [],
   "source": [
    "from google.colab import files\n",
    "from IPython.display import Image  # for images"
   ]
  },
  {
   "cell_type": "code",
   "execution_count": null,
   "metadata": {
    "id": "NNnrdwc8gCt-"
   },
   "outputs": [],
   "source": [
    "# uploaded=files.upload()"
   ]
  },
  {
   "cell_type": "code",
   "execution_count": null,
   "metadata": {
    "id": "QcaOBCWIgVMP"
   },
   "outputs": [],
   "source": [
    "# Image('Screenshot 2024-11-04 141827.jpg')"
   ]
  },
  {
   "cell_type": "markdown",
   "metadata": {
    "id": "uFxBSc0SmGuU"
   },
   "source": [
    "# Supervised machine learning\n",
    "\n",
    " 1. this will work under supervision (means that koi na koi data ho)\n",
    " 2. teacher teaches\n",
    " 3. prediction\n",
    " 4. outcomes"
   ]
  },
  {
   "cell_type": "markdown",
   "metadata": {
    "id": "iALjgwwsmjSD"
   },
   "source": [
    "# types\n",
    "\n",
    "1. Classification\n",
    "    1. for categories (names ,height,weight)\n",
    "2. Regression\n",
    "    1. For numerical data (numbers)"
   ]
  },
  {
   "cell_type": "markdown",
   "metadata": {
    "id": "5kr-gOB8nMrD"
   },
   "source": [
    "# Supervised learning algorithms:\n",
    "\n",
    "1. Logistic Regression\n",
    "2. K-Nearest Neighbors(K-NN)\n",
    "3. Support Vector Machine (SVM)\n",
    "4. Kernel SVM\n",
    "5. Naive Bayes\n",
    "6. Decision Tree Classification\n",
    "7. Random Forest Classification"
   ]
  },
  {
   "cell_type": "markdown",
   "metadata": {
    "id": "bZm2S0ui0Q5V"
   },
   "source": [
    "# Unsupervised /clustering\n",
    "\n",
    "1. no supervision\n",
    "2. no teacher\n",
    "3. self learning\n",
    "4. no labeling of data\n",
    "5. find pattern by yourself"
   ]
  },
  {
   "cell_type": "markdown",
   "metadata": {
    "id": "7Hrr5KXF0kIO"
   },
   "source": [
    "# Semi supervised learning\n",
    "\n",
    "1. Mixed of 1 and 2\n",
    "2. some data is labelled most is not"
   ]
  },
  {
   "cell_type": "markdown",
   "metadata": {
    "id": "edIg-aKG066w"
   },
   "source": [
    "# Reinforcement\n",
    "\n",
    "already discussed in day 16"
   ]
  },
  {
   "cell_type": "code",
   "execution_count": null,
   "metadata": {
    "id": "ghnhvDoN2Lyt"
   },
   "outputs": [],
   "source": [
    "# create Model\n",
    "# model =LinearRegression()\n",
    "\n",
    "\n",
    "# model learn\n",
    "# model =fit(x , y)\n",
    "\n",
    "# prediction\n",
    "# model.predict(x)    here x is the independent variable and this is input"
   ]
  },
  {
   "cell_type": "markdown",
   "metadata": {
    "id": "70dakPY-6t9V"
   },
   "source": [
    "# simple linear Regression\n",
    "\n",
    "1. relationship between 2 variables\n",
    "\n",
    "2. Equation y=a +bx (here x is the independent and y is dependent variable)\n"
   ]
  },
  {
   "cell_type": "markdown",
   "metadata": {
    "id": "M2Ig_LBT8NU9"
   },
   "source": [
    "# Multi linear Regression\n",
    "\n",
    "1. more than 2 independet variable"
   ]
  },
  {
   "cell_type": "markdown",
   "metadata": {
    "id": "RP558nLh81EL"
   },
   "source": [
    "# Classification\n",
    "\n",
    "1. Binary Classification  (only 0 and 1 present )\n",
    "2. Multi-Class classification(man,chil,women)"
   ]
  },
  {
   "cell_type": "markdown",
   "metadata": {
    "id": "6_e8JuMac_8R"
   },
   "source": []
  },
  {
   "cell_type": "markdown",
   "metadata": {
    "id": "4VbBGzOZdARJ"
   },
   "source": []
  },
  {
   "cell_type": "markdown",
   "metadata": {
    "id": "sdkatGf79tSv"
   },
   "source": [
    "# Decision Tree Classification\n",
    "\n",
    "Decision tree algorithm are non parametric supervised learning method used for 'CLASSIFICATION ' and 'REGRESSION '\n",
    "\n",
    "In this categorical and regression both are present"
   ]
  },
  {
   "cell_type": "markdown",
   "metadata": {
    "id": "lkVyltUGDXeB"
   },
   "source": [
    "# K-nearest"
   ]
  },
  {
   "cell_type": "markdown",
   "metadata": {
    "id": "iW9cyeTFcznB"
   },
   "source": [
    "# in machine learning scikit learn website explore"
   ]
  },
  {
   "cell_type": "markdown",
   "metadata": {},
   "source": [
    "we will use this machine learning algorithmprint(\"Machine learning algorithm initialized\")"
   ]
  }
 ],
 "metadata": {
  "colab": {
   "provenance": []
  },
  "kernelspec": {
   "display_name": "Python 3",
   "name": "python3"
  },
  "language_info": {
   "name": "python"
  }
 },
 "nbformat": 4,
 "nbformat_minor": 0
}

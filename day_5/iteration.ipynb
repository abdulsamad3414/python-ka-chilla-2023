{
 "cells": [
  {
   "cell_type": "markdown",
   "metadata": {},
   "source": [
    "# conditional statements"
   ]
  },
  {
   "cell_type": "code",
   "execution_count": 1,
   "metadata": {},
   "outputs": [
    {
     "name": "stdout",
     "output_type": "stream",
     "text": [
      "you are 20 years old\n"
     ]
    }
   ],
   "source": [
    "# there are four types of iteration \n",
    "age=20\n",
    "if age==20:\n",
    "\n",
    "    print('you are 20 years old')"
   ]
  },
  {
   "cell_type": "code",
   "execution_count": 2,
   "metadata": {},
   "outputs": [
    {
     "name": "stdout",
     "output_type": "stream",
     "text": [
      "you are eligible for voting\n"
     ]
    }
   ],
   "source": [
    "# if-else condition \n",
    "# no checking required in it because there are two parts in it only \n",
    "# if use for true part and else use for false\n",
    "# for example \n",
    "age=20\n",
    "if age>=20:\n",
    "    print('you are eligible for voting')\n",
    "else:\n",
    "    print('you are not eligible')\n"
   ]
  },
  {
   "cell_type": "code",
   "execution_count": 3,
   "metadata": {},
   "outputs": [
    {
     "name": "stdout",
     "output_type": "stream",
     "text": [
      "The given number is even\n"
     ]
    }
   ],
   "source": [
    "# if-elif \n",
    "# if there are more than 2 conditions so we will use the elif statements \n",
    "# Check Even or Odd Number\n",
    "# Write a program that checks if a given number is even or odd.\n",
    "Number=float(input('Enter a Number here:'))\n",
    "if Number%2==0:\n",
    "    print(\"The given number is even\")\n",
    "else:\n",
    "    print('The number is odd')"
   ]
  },
  {
   "cell_type": "code",
   "execution_count": 4,
   "metadata": {},
   "outputs": [
    {
     "name": "stdout",
     "output_type": "stream",
     "text": [
      "The given number is Positive\n"
     ]
    }
   ],
   "source": [
    "# Check Positive, Negative, or Zero\n",
    "\n",
    "# Write a program that takes an integer as input and checks if it's positive, negative, or zero.\n",
    "Number=float(input('Enter a Number Here:'))\n",
    "if Number >0:\n",
    "    print('The given number is Positive')\n",
    "elif Number==0:\n",
    "    print('The number is zero')\n",
    "else:\n",
    "    print(\"The number is Negative\")"
   ]
  },
  {
   "cell_type": "code",
   "execution_count": 5,
   "metadata": {},
   "outputs": [
    {
     "name": "stdout",
     "output_type": "stream",
     "text": [
      "The student got an F\n"
     ]
    }
   ],
   "source": [
    "# Grade Checker\n",
    "\n",
    "# Write a program that takes a student's score (0-100) as input and prints the grade:\n",
    "# A (90-100)\n",
    "# B (80-89)\n",
    "# C (70-79)\n",
    "# D (60-69)\n",
    "# F (below 60)\n",
    "Student_Score=float(input('''Enter Student's Score here:'''))\n",
    "if Student_Score>=90 and Student_Score<=100:\n",
    "    print('The Student got an A')\n",
    "elif Student_Score>=80 and Student_Score<=89:\n",
    "    print('The Student got an B')\n",
    "elif Student_Score>=70 and Student_Score<=79:\n",
    "    print('The Student Got an C')\n",
    "elif Student_Score>=60 and Student_Score<=69:\n",
    "    print('The Student Got an D')\n",
    "else:\n",
    "    print('The student got an F')"
   ]
  },
  {
   "cell_type": "code",
   "execution_count": 6,
   "metadata": {},
   "outputs": [
    {
     "name": "stdout",
     "output_type": "stream",
     "text": [
      "8787 is not divisible by both 3 and 5\n"
     ]
    }
   ],
   "source": [
    "# Divisibility Check\n",
    "\n",
    "# Write a program that takes an integer as input and checks if it's divisible by both 3 and 5.\n",
    "\n",
    "Number1=int(input('Enter a Number Here:'))\n",
    "if Number1%3==0 and Number1%5==0:\n",
    "    print(Number1,\"is divisible by both 3 and 5\")\n",
    "else:\n",
    "    print(Number1,\"is not divisible by both 3 and 5\")"
   ]
  },
  {
   "cell_type": "code",
   "execution_count": 7,
   "metadata": {},
   "outputs": [
    {
     "name": "stdout",
     "output_type": "stream",
     "text": [
      "Number one is larger\n"
     ]
    }
   ],
   "source": [
    "# Number Comparison\n",
    "\n",
    "# Write a program that takes two numbers as input and prints which one is larger, or if they are equal.\n",
    "Num1=int(input('Enter num1 here:'))\n",
    "Num2=int(input('Enter num2 here:'))\n",
    "\n",
    "if Num1>Num2:\n",
    "    print('Number one is larger')\n",
    "elif Num1==Num2:\n",
    "    print('Both numbers are equal')\n",
    "else:\n",
    "    print('Number two is larger')"
   ]
  },
  {
   "cell_type": "code",
   "execution_count": 8,
   "metadata": {},
   "outputs": [
    {
     "name": "stdout",
     "output_type": "stream",
     "text": [
      "This is not leap year\n"
     ]
    }
   ],
   "source": [
    "# Check Leap Year\n",
    "\n",
    "# Write a program to check if a given year is a leap year. (Hint: Leap years are divisible by 4 but not by 100 unless also divisible by 400).\n",
    "Given_year=int(input('Enter any year:'))\n",
    "if Given_year%4==0 and (Given_year%100!=0 or Given_year%400):\n",
    "    print('This is leapyear')\n",
    "else:\n",
    "    print('This is not leap year')"
   ]
  },
  {
   "cell_type": "code",
   "execution_count": 9,
   "metadata": {},
   "outputs": [
    {
     "name": "stdout",
     "output_type": "stream",
     "text": [
      "The character is a vowel.\n"
     ]
    }
   ],
   "source": [
    "# Vowel or Consonant\n",
    "\n",
    "# Write a program that checks if a given character is a vowel or a consonant.\n",
    "\n",
    "Given_Character=input('Enter any letters here:')\n",
    "if Given_Character in 'aeiou' or 'AEIOU':\n",
    "    print('The character is a vowel.')\n",
    "else:\n",
    "    print('The character is a consonant.')"
   ]
  },
  {
   "cell_type": "code",
   "execution_count": 10,
   "metadata": {},
   "outputs": [
    {
     "name": "stdout",
     "output_type": "stream",
     "text": [
      "Eligible to Vote\n"
     ]
    }
   ],
   "source": [
    "# Eligibility Check for Voting\n",
    "\n",
    "# Write a program that takes a person's age as input and checks if they are eligible to vote (18 or older).\n",
    "Age=int(input('Enter Age : '))\n",
    "if Age>=18:\n",
    "    print('Eligible to Vote')\n",
    "else:\n",
    "    print('Not Eligible to Vote')\n"
   ]
  },
  {
   "cell_type": "code",
   "execution_count": 11,
   "metadata": {},
   "outputs": [
    {
     "name": "stdout",
     "output_type": "stream",
     "text": [
      "Hot\n"
     ]
    }
   ],
   "source": [
    "# Temperature Conversion Advice\n",
    "\n",
    "# Write a program that takes a temperature in Celsius and prints \"Hot\" if it's above 30°C, \"Warm\" if it's between 20°C and 30°C, and \"Cold\" if it's below 20°C.\n",
    "\n",
    "Temperature_in_celsius=float(input('Enter temperature in Celsius:'))\n",
    "if Temperature_in_celsius>30:\n",
    "    print('Hot')\n",
    "elif 20<=Temperature_in_celsius<30:\n",
    "    print('Warm')\n",
    "else:\n",
    "    print('Cold')"
   ]
  },
  {
   "cell_type": "code",
   "execution_count": 12,
   "metadata": {},
   "outputs": [
    {
     "name": "stdout",
     "output_type": "stream",
     "text": [
      "Error: Invalid operator.\n"
     ]
    }
   ],
   "source": [
    "# Simple Calculator Using Conditionals\n",
    "\n",
    "# Write a program that takes two numbers and an operator (+, -, *, /) as input, then performs the corresponding operation and prints the result.\n",
    "# If the operator is not one of the four basic arithmetic operators, print an error message.\n",
    "# Take input from the user\n",
    "num1 = float(input(\"Enter the first number: \"))\n",
    "operator = input(\"Enter an operator (+, -, *, /): \")\n",
    "num2 = float(input(\"Enter the second number: \"))\n",
    "\n",
    "# Perform the calculation based on the operator\n",
    "if operator == '+':\n",
    "    print(num1 + num2)\n",
    "elif operator == '-':\n",
    "    print(num1 - num2)\n",
    "elif operator == '*':\n",
    "    print(num1 * num2)\n",
    "elif operator == '/':\n",
    "    if num2 != 0:\n",
    "        print(num1 / num2)\n",
    "    else:\n",
    "        print(\"Error: Division by zero is not allowed.\")\n",
    "else:\n",
    "    print(\"Error: Invalid operator.\")\n",
    "\n"
   ]
  },
  {
   "cell_type": "code",
   "execution_count": 22,
   "metadata": {},
   "outputs": [
    {
     "name": "stdout",
     "output_type": "stream",
     "text": [
      "Second number is larger 24.0\n"
     ]
    }
   ],
   "source": [
    "# Largest of Three Numbers: Write a program that takes three numbers as input and prints the largest one.\n",
    "N1=float(input('Enter a first number'))\n",
    "N2=float(input('Enter a second number'))\n",
    "N3=float(input('Enter a third number'))\n",
    "\n",
    "if N1>N2 and N1>N3:\n",
    "    print('First number is larger',N1)\n",
    "elif N2>N1 and N2>N3:\n",
    "    print('Second number is larger',N2)\n",
    "elif N3>N1 and N3>N2:\n",
    "    print('Third number is larger',N3)\n",
    "else:\n",
    "    print('All numbers are equal')"
   ]
  },
  {
   "cell_type": "code",
   "execution_count": null,
   "metadata": {},
   "outputs": [
    {
     "name": "stdout",
     "output_type": "stream",
     "text": [
      "Welcome your username is correct\n",
      "Login Successful\n"
     ]
    }
   ],
   "source": [
    "# Username and Password Authentication: \n",
    "# Write a program that takes a username and password as input. Check if they match stored values; if both are correct, print \"Login successful\"; otherwise, print \"Login failed\"\n",
    "username=input('Please Enter a Username:')\n",
    "password=input('Please Enter a Password:')\n",
    "\n",
    "if username =='abdulsamads3414@gmail.com':\n",
    "    print('Welcome your username is correct')\n",
    "    if password=='latching##4455':\n",
    "        print('Login Successful')\n",
    "    else:\n",
    "        print('Re-Enter your Password')\n",
    "else:\n",
    "    print('Login Failed')\n"
   ]
  },
  {
   "cell_type": "code",
   "execution_count": 59,
   "metadata": {},
   "outputs": [
    {
     "name": "stdout",
     "output_type": "stream",
     "text": [
      "Stop\n"
     ]
    }
   ],
   "source": [
    "# Traffic Light Simulator: Given a string input (\"red\", \"yellow\", \"green\"), print a message based on the color:\n",
    "\n",
    "# \"red\": \"Stop\"\n",
    "# \"yellow\": \"Get ready\"\n",
    "# \"green\": \"Go\"\n",
    "\n",
    "str=input('Enter any string') \n",
    "if str=='Red':\n",
    "    print('Stop')\n",
    "elif str=='Yellow':\n",
    "    print('Get ready')\n",
    "else:\n",
    "    print('Go')\n",
    "\n"
   ]
  }
 ],
 "metadata": {
  "kernelspec": {
   "display_name": "Python 3",
   "language": "python",
   "name": "python3"
  },
  "language_info": {
   "codemirror_mode": {
    "name": "ipython",
    "version": 3
   },
   "file_extension": ".py",
   "mimetype": "text/x-python",
   "name": "python",
   "nbconvert_exporter": "python",
   "pygments_lexer": "ipython3",
   "version": "3.13.0"
  }
 },
 "nbformat": 4,
 "nbformat_minor": 2
}

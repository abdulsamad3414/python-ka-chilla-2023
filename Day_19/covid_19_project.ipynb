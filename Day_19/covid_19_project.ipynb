{
 "cells": [
  {
   "cell_type": "markdown",
   "id": "0630f149",
   "metadata": {},
   "source": [
    "# Covid-19 Dataset "
   ]
  },
  {
   "cell_type": "markdown",
   "id": "547fa159",
   "metadata": {},
   "source": [
    "import Libraries"
   ]
  },
  {
   "cell_type": "code",
   "execution_count": 144,
   "id": "361107ed",
   "metadata": {},
   "outputs": [],
   "source": [
    "import pandas as pd\n",
    "import numpy as np\n",
    "import matplotlib.pyplot as plt\n",
    "import seaborn as sns\n",
    "import plotly.express as px\n",
    "from sklearn.model_selection import train_test_split\n",
    "from sklearn.tree import DecisionTreeClassifier\n",
    "from sklearn.ensemble import RandomForestClassifier\n",
    "from sklearn.linear_model import LogisticRegression\n",
    "from sklearn.svm import SVC\n",
    "from sklearn.neighbors import KNeighborsClassifier\n",
    "from sklearn.metrics import accuracy_score, precision_score, recall_score, f1_score, confusion_matrix\n",
    "\n"
   ]
  },
  {
   "cell_type": "markdown",
   "id": "8cafa7bc",
   "metadata": {},
   "source": [
    "Load The dataset "
   ]
  },
  {
   "cell_type": "code",
   "execution_count": 145,
   "id": "d7bf4eee",
   "metadata": {},
   "outputs": [
    {
     "data": {
      "text/html": [
       "<div>\n",
       "<style scoped>\n",
       "    .dataframe tbody tr th:only-of-type {\n",
       "        vertical-align: middle;\n",
       "    }\n",
       "\n",
       "    .dataframe tbody tr th {\n",
       "        vertical-align: top;\n",
       "    }\n",
       "\n",
       "    .dataframe thead th {\n",
       "        text-align: right;\n",
       "    }\n",
       "</style>\n",
       "<table border=\"1\" class=\"dataframe\">\n",
       "  <thead>\n",
       "    <tr style=\"text-align: right;\">\n",
       "      <th></th>\n",
       "      <th>Date</th>\n",
       "      <th>Cases</th>\n",
       "      <th>Deaths</th>\n",
       "      <th>Recovered</th>\n",
       "      <th>Travel_history</th>\n",
       "      <th>Province</th>\n",
       "      <th>City</th>\n",
       "    </tr>\n",
       "  </thead>\n",
       "  <tbody>\n",
       "    <tr>\n",
       "      <th>0</th>\n",
       "      <td>2/26/2020</td>\n",
       "      <td>1</td>\n",
       "      <td>0</td>\n",
       "      <td>0</td>\n",
       "      <td>China</td>\n",
       "      <td>Islamabad Capital Territory</td>\n",
       "      <td>Islamabad</td>\n",
       "    </tr>\n",
       "    <tr>\n",
       "      <th>1</th>\n",
       "      <td>2/26/2020</td>\n",
       "      <td>2</td>\n",
       "      <td>0</td>\n",
       "      <td>0</td>\n",
       "      <td>Iran/Taftan</td>\n",
       "      <td>Sindh</td>\n",
       "      <td>Karachi</td>\n",
       "    </tr>\n",
       "  </tbody>\n",
       "</table>\n",
       "</div>"
      ],
      "text/plain": [
       "        Date  Cases  Deaths  Recovered Travel_history  \\\n",
       "0  2/26/2020      1       0          0          China   \n",
       "1  2/26/2020      2       0          0    Iran/Taftan   \n",
       "\n",
       "                      Province       City  \n",
       "0  Islamabad Capital Territory  Islamabad  \n",
       "1                        Sindh    Karachi  "
      ]
     },
     "execution_count": 145,
     "metadata": {},
     "output_type": "execute_result"
    }
   ],
   "source": [
    "df=pd.read_csv(r\"D:\\python ka chilla 2023\\Day_19\\PK COVID-19-10may.csv\")\n",
    "df.head(2)"
   ]
  },
  {
   "cell_type": "markdown",
   "id": "fae5d7a9",
   "metadata": {},
   "source": [
    "Data Preprocess"
   ]
  },
  {
   "cell_type": "code",
   "execution_count": 146,
   "id": "f01c0d2f",
   "metadata": {},
   "outputs": [
    {
     "data": {
      "text/plain": [
       "(1328, 7)"
      ]
     },
     "execution_count": 146,
     "metadata": {},
     "output_type": "execute_result"
    }
   ],
   "source": [
    "df.shape"
   ]
  },
  {
   "cell_type": "code",
   "execution_count": 147,
   "id": "d7560444",
   "metadata": {},
   "outputs": [
    {
     "data": {
      "text/plain": [
       "Date              0\n",
       "Cases             0\n",
       "Deaths            0\n",
       "Recovered         0\n",
       "Travel_history    0\n",
       "Province          0\n",
       "City              0\n",
       "dtype: int64"
      ]
     },
     "execution_count": 147,
     "metadata": {},
     "output_type": "execute_result"
    }
   ],
   "source": [
    "df.isnull().sum()"
   ]
  },
  {
   "cell_type": "code",
   "execution_count": 148,
   "id": "9100fb0e",
   "metadata": {},
   "outputs": [
    {
     "data": {
      "text/plain": [
       "np.int64(1)"
      ]
     },
     "execution_count": 148,
     "metadata": {},
     "output_type": "execute_result"
    }
   ],
   "source": [
    "df.duplicated().sum()\n"
   ]
  },
  {
   "cell_type": "code",
   "execution_count": 149,
   "id": "a0f39c00",
   "metadata": {},
   "outputs": [],
   "source": [
    "# remove duplicated\n",
    "df = df.drop_duplicates()"
   ]
  },
  {
   "cell_type": "code",
   "execution_count": 150,
   "id": "518f0c2b",
   "metadata": {},
   "outputs": [
    {
     "data": {
      "text/plain": [
       "np.int64(0)"
      ]
     },
     "execution_count": 150,
     "metadata": {},
     "output_type": "execute_result"
    }
   ],
   "source": [
    "df.duplicated().sum()"
   ]
  },
  {
   "cell_type": "code",
   "execution_count": 151,
   "id": "ddb0973c",
   "metadata": {},
   "outputs": [
    {
     "data": {
      "text/html": [
       "<div>\n",
       "<style scoped>\n",
       "    .dataframe tbody tr th:only-of-type {\n",
       "        vertical-align: middle;\n",
       "    }\n",
       "\n",
       "    .dataframe tbody tr th {\n",
       "        vertical-align: top;\n",
       "    }\n",
       "\n",
       "    .dataframe thead th {\n",
       "        text-align: right;\n",
       "    }\n",
       "</style>\n",
       "<table border=\"1\" class=\"dataframe\">\n",
       "  <thead>\n",
       "    <tr style=\"text-align: right;\">\n",
       "      <th></th>\n",
       "      <th>Cases</th>\n",
       "      <th>Deaths</th>\n",
       "      <th>Recovered</th>\n",
       "    </tr>\n",
       "  </thead>\n",
       "  <tbody>\n",
       "    <tr>\n",
       "      <th>count</th>\n",
       "      <td>1327.000000</td>\n",
       "      <td>1327.000000</td>\n",
       "      <td>1327.000000</td>\n",
       "    </tr>\n",
       "    <tr>\n",
       "      <th>mean</th>\n",
       "      <td>22.664657</td>\n",
       "      <td>0.455916</td>\n",
       "      <td>2.468726</td>\n",
       "    </tr>\n",
       "    <tr>\n",
       "      <th>std</th>\n",
       "      <td>83.006295</td>\n",
       "      <td>1.805633</td>\n",
       "      <td>11.865907</td>\n",
       "    </tr>\n",
       "    <tr>\n",
       "      <th>min</th>\n",
       "      <td>0.000000</td>\n",
       "      <td>0.000000</td>\n",
       "      <td>0.000000</td>\n",
       "    </tr>\n",
       "    <tr>\n",
       "      <th>25%</th>\n",
       "      <td>1.000000</td>\n",
       "      <td>0.000000</td>\n",
       "      <td>0.000000</td>\n",
       "    </tr>\n",
       "    <tr>\n",
       "      <th>50%</th>\n",
       "      <td>3.000000</td>\n",
       "      <td>0.000000</td>\n",
       "      <td>0.000000</td>\n",
       "    </tr>\n",
       "    <tr>\n",
       "      <th>75%</th>\n",
       "      <td>10.000000</td>\n",
       "      <td>0.000000</td>\n",
       "      <td>0.000000</td>\n",
       "    </tr>\n",
       "    <tr>\n",
       "      <th>max</th>\n",
       "      <td>1080.000000</td>\n",
       "      <td>31.000000</td>\n",
       "      <td>208.000000</td>\n",
       "    </tr>\n",
       "  </tbody>\n",
       "</table>\n",
       "</div>"
      ],
      "text/plain": [
       "             Cases       Deaths    Recovered\n",
       "count  1327.000000  1327.000000  1327.000000\n",
       "mean     22.664657     0.455916     2.468726\n",
       "std      83.006295     1.805633    11.865907\n",
       "min       0.000000     0.000000     0.000000\n",
       "25%       1.000000     0.000000     0.000000\n",
       "50%       3.000000     0.000000     0.000000\n",
       "75%      10.000000     0.000000     0.000000\n",
       "max    1080.000000    31.000000   208.000000"
      ]
     },
     "execution_count": 151,
     "metadata": {},
     "output_type": "execute_result"
    }
   ],
   "source": [
    "df.describe()"
   ]
  },
  {
   "cell_type": "code",
   "execution_count": 152,
   "id": "e4fb676c",
   "metadata": {},
   "outputs": [
    {
     "name": "stdout",
     "output_type": "stream",
     "text": [
      "<class 'pandas.core.frame.DataFrame'>\n",
      "Index: 1327 entries, 0 to 1327\n",
      "Data columns (total 7 columns):\n",
      " #   Column          Non-Null Count  Dtype \n",
      "---  ------          --------------  ----- \n",
      " 0   Date            1327 non-null   object\n",
      " 1   Cases           1327 non-null   int64 \n",
      " 2   Deaths          1327 non-null   int64 \n",
      " 3   Recovered       1327 non-null   int64 \n",
      " 4   Travel_history  1327 non-null   object\n",
      " 5   Province        1327 non-null   object\n",
      " 6   City            1327 non-null   object\n",
      "dtypes: int64(3), object(4)\n",
      "memory usage: 82.9+ KB\n"
     ]
    }
   ],
   "source": [
    "df.info()"
   ]
  },
  {
   "cell_type": "code",
   "execution_count": 153,
   "id": "9d664f8d",
   "metadata": {},
   "outputs": [],
   "source": [
    "# drop date column\n",
    "df.drop('Date', axis=1, inplace=True)"
   ]
  },
  {
   "cell_type": "code",
   "execution_count": 154,
   "id": "7ef5758b",
   "metadata": {},
   "outputs": [
    {
     "data": {
      "text/html": [
       "<div>\n",
       "<style scoped>\n",
       "    .dataframe tbody tr th:only-of-type {\n",
       "        vertical-align: middle;\n",
       "    }\n",
       "\n",
       "    .dataframe tbody tr th {\n",
       "        vertical-align: top;\n",
       "    }\n",
       "\n",
       "    .dataframe thead th {\n",
       "        text-align: right;\n",
       "    }\n",
       "</style>\n",
       "<table border=\"1\" class=\"dataframe\">\n",
       "  <thead>\n",
       "    <tr style=\"text-align: right;\">\n",
       "      <th></th>\n",
       "      <th>Cases</th>\n",
       "      <th>Deaths</th>\n",
       "      <th>Recovered</th>\n",
       "      <th>Travel_history</th>\n",
       "      <th>Province</th>\n",
       "      <th>City</th>\n",
       "    </tr>\n",
       "  </thead>\n",
       "  <tbody>\n",
       "    <tr>\n",
       "      <th>0</th>\n",
       "      <td>1</td>\n",
       "      <td>0</td>\n",
       "      <td>0</td>\n",
       "      <td>China</td>\n",
       "      <td>Islamabad Capital Territory</td>\n",
       "      <td>Islamabad</td>\n",
       "    </tr>\n",
       "    <tr>\n",
       "      <th>1</th>\n",
       "      <td>2</td>\n",
       "      <td>0</td>\n",
       "      <td>0</td>\n",
       "      <td>Iran/Taftan</td>\n",
       "      <td>Sindh</td>\n",
       "      <td>Karachi</td>\n",
       "    </tr>\n",
       "  </tbody>\n",
       "</table>\n",
       "</div>"
      ],
      "text/plain": [
       "   Cases  Deaths  Recovered Travel_history                     Province  \\\n",
       "0      1       0          0          China  Islamabad Capital Territory   \n",
       "1      2       0          0    Iran/Taftan                        Sindh   \n",
       "\n",
       "        City  \n",
       "0  Islamabad  \n",
       "1    Karachi  "
      ]
     },
     "execution_count": 154,
     "metadata": {},
     "output_type": "execute_result"
    }
   ],
   "source": [
    "df.head(2)"
   ]
  },
  {
   "cell_type": "code",
   "execution_count": 155,
   "id": "af29907e",
   "metadata": {},
   "outputs": [
    {
     "data": {
      "text/html": [
       "<div>\n",
       "<style scoped>\n",
       "    .dataframe tbody tr th:only-of-type {\n",
       "        vertical-align: middle;\n",
       "    }\n",
       "\n",
       "    .dataframe tbody tr th {\n",
       "        vertical-align: top;\n",
       "    }\n",
       "\n",
       "    .dataframe thead th {\n",
       "        text-align: right;\n",
       "    }\n",
       "</style>\n",
       "<table border=\"1\" class=\"dataframe\">\n",
       "  <thead>\n",
       "    <tr style=\"text-align: right;\">\n",
       "      <th></th>\n",
       "      <th>Cases</th>\n",
       "      <th>Deaths</th>\n",
       "      <th>Recovered</th>\n",
       "      <th>Travel_history</th>\n",
       "      <th>Province</th>\n",
       "      <th>City</th>\n",
       "    </tr>\n",
       "  </thead>\n",
       "  <tbody>\n",
       "    <tr>\n",
       "      <th>0</th>\n",
       "      <td>1</td>\n",
       "      <td>0</td>\n",
       "      <td>0</td>\n",
       "      <td>China</td>\n",
       "      <td>-0.658888</td>\n",
       "      <td>-0.622814</td>\n",
       "    </tr>\n",
       "    <tr>\n",
       "      <th>1</th>\n",
       "      <td>2</td>\n",
       "      <td>0</td>\n",
       "      <td>0</td>\n",
       "      <td>Iran/Taftan</td>\n",
       "      <td>1.123064</td>\n",
       "      <td>-0.442223</td>\n",
       "    </tr>\n",
       "  </tbody>\n",
       "</table>\n",
       "</div>"
      ],
      "text/plain": [
       "   Cases  Deaths  Recovered Travel_history  Province      City\n",
       "0      1       0          0          China -0.658888 -0.622814\n",
       "1      2       0          0    Iran/Taftan  1.123064 -0.442223"
      ]
     },
     "execution_count": 155,
     "metadata": {},
     "output_type": "execute_result"
    }
   ],
   "source": [
    "from sklearn.preprocessing import LabelEncoder\n",
    "label_encoder=LabelEncoder()\n",
    "# Encoding categorical columns\n",
    "\n",
    "cat_col=[\"Province\",\"City\"]\n",
    "\n",
    "for col in cat_col:\n",
    "    df[col] = label_encoder.fit_transform(df[col])\n",
    "    df[col] = df[col].astype(int)\n",
    "    from sklearn.preprocessing import StandardScaler\n",
    "    scaler = StandardScaler()\n",
    "    df[col] = scaler.fit_transform(df[[col]])\n",
    "df.head(2)\n"
   ]
  },
  {
   "cell_type": "code",
   "execution_count": 156,
   "id": "6898056f",
   "metadata": {},
   "outputs": [
    {
     "data": {
      "text/html": [
       "<div>\n",
       "<style scoped>\n",
       "    .dataframe tbody tr th:only-of-type {\n",
       "        vertical-align: middle;\n",
       "    }\n",
       "\n",
       "    .dataframe tbody tr th {\n",
       "        vertical-align: top;\n",
       "    }\n",
       "\n",
       "    .dataframe thead th {\n",
       "        text-align: right;\n",
       "    }\n",
       "</style>\n",
       "<table border=\"1\" class=\"dataframe\">\n",
       "  <thead>\n",
       "    <tr style=\"text-align: right;\">\n",
       "      <th></th>\n",
       "      <th>Cases</th>\n",
       "      <th>Deaths</th>\n",
       "      <th>Recovered</th>\n",
       "      <th>Travel_history</th>\n",
       "      <th>Province</th>\n",
       "      <th>City</th>\n",
       "    </tr>\n",
       "  </thead>\n",
       "  <tbody>\n",
       "    <tr>\n",
       "      <th>0</th>\n",
       "      <td>-0.261099</td>\n",
       "      <td>-0.252591</td>\n",
       "      <td>-0.208131</td>\n",
       "      <td>China</td>\n",
       "      <td>-0.658888</td>\n",
       "      <td>-0.622814</td>\n",
       "    </tr>\n",
       "    <tr>\n",
       "      <th>1</th>\n",
       "      <td>-0.249047</td>\n",
       "      <td>-0.252591</td>\n",
       "      <td>-0.208131</td>\n",
       "      <td>Iran/Taftan</td>\n",
       "      <td>1.123064</td>\n",
       "      <td>-0.442223</td>\n",
       "    </tr>\n",
       "  </tbody>\n",
       "</table>\n",
       "</div>"
      ],
      "text/plain": [
       "      Cases    Deaths  Recovered Travel_history  Province      City\n",
       "0 -0.261099 -0.252591  -0.208131          China -0.658888 -0.622814\n",
       "1 -0.249047 -0.252591  -0.208131    Iran/Taftan  1.123064 -0.442223"
      ]
     },
     "execution_count": 156,
     "metadata": {},
     "output_type": "execute_result"
    }
   ],
   "source": [
    "from sklearn.preprocessing import StandardScaler\n",
    "scaler = StandardScaler()\n",
    "# Scaling numerical columns\n",
    "num_col=[\"Cases\",\"Deaths\",\"Recovered\"]\n",
    "for col in num_col:\n",
    "    df[col] = scaler.fit_transform(df[[col]])\n",
    "df.head(2)"
   ]
  },
  {
   "cell_type": "code",
   "execution_count": 157,
   "id": "1bde193c",
   "metadata": {},
   "outputs": [
    {
     "data": {
      "text/html": [
       "<div>\n",
       "<style scoped>\n",
       "    .dataframe tbody tr th:only-of-type {\n",
       "        vertical-align: middle;\n",
       "    }\n",
       "\n",
       "    .dataframe tbody tr th {\n",
       "        vertical-align: top;\n",
       "    }\n",
       "\n",
       "    .dataframe thead th {\n",
       "        text-align: right;\n",
       "    }\n",
       "</style>\n",
       "<table border=\"1\" class=\"dataframe\">\n",
       "  <thead>\n",
       "    <tr style=\"text-align: right;\">\n",
       "      <th></th>\n",
       "      <th>Cases</th>\n",
       "      <th>Deaths</th>\n",
       "      <th>Recovered</th>\n",
       "      <th>Province</th>\n",
       "      <th>City</th>\n",
       "    </tr>\n",
       "  </thead>\n",
       "  <tbody>\n",
       "    <tr>\n",
       "      <th>count</th>\n",
       "      <td>1.327000e+03</td>\n",
       "      <td>1.327000e+03</td>\n",
       "      <td>1.327000e+03</td>\n",
       "      <td>1.327000e+03</td>\n",
       "      <td>1.327000e+03</td>\n",
       "    </tr>\n",
       "    <tr>\n",
       "      <th>mean</th>\n",
       "      <td>1.070901e-17</td>\n",
       "      <td>1.070901e-17</td>\n",
       "      <td>1.070901e-17</td>\n",
       "      <td>4.283604e-17</td>\n",
       "      <td>-7.228581e-17</td>\n",
       "    </tr>\n",
       "    <tr>\n",
       "      <th>std</th>\n",
       "      <td>1.000377e+00</td>\n",
       "      <td>1.000377e+00</td>\n",
       "      <td>1.000377e+00</td>\n",
       "      <td>1.000377e+00</td>\n",
       "      <td>1.000377e+00</td>\n",
       "    </tr>\n",
       "    <tr>\n",
       "      <th>min</th>\n",
       "      <td>-2.731504e-01</td>\n",
       "      <td>-2.525915e-01</td>\n",
       "      <td>-2.081305e-01</td>\n",
       "      <td>-3.034824e+00</td>\n",
       "      <td>-1.766557e+00</td>\n",
       "    </tr>\n",
       "    <tr>\n",
       "      <th>25%</th>\n",
       "      <td>-2.610986e-01</td>\n",
       "      <td>-2.525915e-01</td>\n",
       "      <td>-2.081305e-01</td>\n",
       "      <td>-6.490406e-02</td>\n",
       "      <td>-8.636022e-01</td>\n",
       "    </tr>\n",
       "    <tr>\n",
       "      <th>50%</th>\n",
       "      <td>-2.369949e-01</td>\n",
       "      <td>-2.525915e-01</td>\n",
       "      <td>-2.081305e-01</td>\n",
       "      <td>-6.490406e-02</td>\n",
       "      <td>3.935259e-02</td>\n",
       "    </tr>\n",
       "    <tr>\n",
       "      <th>75%</th>\n",
       "      <td>-1.526322e-01</td>\n",
       "      <td>-2.525915e-01</td>\n",
       "      <td>-2.081305e-01</td>\n",
       "      <td>5.290800e-01</td>\n",
       "      <td>8.821104e-01</td>\n",
       "    </tr>\n",
       "    <tr>\n",
       "      <th>max</th>\n",
       "      <td>1.274282e+01</td>\n",
       "      <td>1.692238e+01</td>\n",
       "      <td>1.732769e+01</td>\n",
       "      <td>2.311032e+00</td>\n",
       "      <td>2.025853e+00</td>\n",
       "    </tr>\n",
       "  </tbody>\n",
       "</table>\n",
       "</div>"
      ],
      "text/plain": [
       "              Cases        Deaths     Recovered      Province          City\n",
       "count  1.327000e+03  1.327000e+03  1.327000e+03  1.327000e+03  1.327000e+03\n",
       "mean   1.070901e-17  1.070901e-17  1.070901e-17  4.283604e-17 -7.228581e-17\n",
       "std    1.000377e+00  1.000377e+00  1.000377e+00  1.000377e+00  1.000377e+00\n",
       "min   -2.731504e-01 -2.525915e-01 -2.081305e-01 -3.034824e+00 -1.766557e+00\n",
       "25%   -2.610986e-01 -2.525915e-01 -2.081305e-01 -6.490406e-02 -8.636022e-01\n",
       "50%   -2.369949e-01 -2.525915e-01 -2.081305e-01 -6.490406e-02  3.935259e-02\n",
       "75%   -1.526322e-01 -2.525915e-01 -2.081305e-01  5.290800e-01  8.821104e-01\n",
       "max    1.274282e+01  1.692238e+01  1.732769e+01  2.311032e+00  2.025853e+00"
      ]
     },
     "execution_count": 157,
     "metadata": {},
     "output_type": "execute_result"
    }
   ],
   "source": [
    "df.describe()"
   ]
  },
  {
   "cell_type": "code",
   "execution_count": 158,
   "id": "a1d50e4f",
   "metadata": {},
   "outputs": [],
   "source": [
    "# change the datatypes \n",
    "# df[\"Travel_history\"]=df[\"Travel_history\"].astype(int)   \n",
    "df[\"Province\"]=df[\"Province\"].astype(int)\n",
    "df[\"City\"]=df[\"City\"].astype(int)"
   ]
  },
  {
   "cell_type": "code",
   "execution_count": 159,
   "id": "652bd506",
   "metadata": {},
   "outputs": [
    {
     "name": "stdout",
     "output_type": "stream",
     "text": [
      "<class 'pandas.core.frame.DataFrame'>\n",
      "Index: 1327 entries, 0 to 1327\n",
      "Data columns (total 6 columns):\n",
      " #   Column          Non-Null Count  Dtype  \n",
      "---  ------          --------------  -----  \n",
      " 0   Cases           1327 non-null   float64\n",
      " 1   Deaths          1327 non-null   float64\n",
      " 2   Recovered       1327 non-null   float64\n",
      " 3   Travel_history  1327 non-null   object \n",
      " 4   Province        1327 non-null   int64  \n",
      " 5   City            1327 non-null   int64  \n",
      "dtypes: float64(3), int64(2), object(1)\n",
      "memory usage: 72.6+ KB\n"
     ]
    }
   ],
   "source": [
    "df.info()"
   ]
  },
  {
   "cell_type": "code",
   "execution_count": 160,
   "id": "20e677b7",
   "metadata": {},
   "outputs": [],
   "source": [
    "X=df.drop(\"Travel_history\",axis=1)      "
   ]
  },
  {
   "cell_type": "code",
   "execution_count": 161,
   "id": "2fd390af",
   "metadata": {},
   "outputs": [
    {
     "data": {
      "text/html": [
       "<div>\n",
       "<style scoped>\n",
       "    .dataframe tbody tr th:only-of-type {\n",
       "        vertical-align: middle;\n",
       "    }\n",
       "\n",
       "    .dataframe tbody tr th {\n",
       "        vertical-align: top;\n",
       "    }\n",
       "\n",
       "    .dataframe thead th {\n",
       "        text-align: right;\n",
       "    }\n",
       "</style>\n",
       "<table border=\"1\" class=\"dataframe\">\n",
       "  <thead>\n",
       "    <tr style=\"text-align: right;\">\n",
       "      <th></th>\n",
       "      <th>Cases</th>\n",
       "      <th>Deaths</th>\n",
       "      <th>Recovered</th>\n",
       "      <th>Province</th>\n",
       "      <th>City</th>\n",
       "    </tr>\n",
       "  </thead>\n",
       "  <tbody>\n",
       "    <tr>\n",
       "      <th>0</th>\n",
       "      <td>-0.261099</td>\n",
       "      <td>-0.252591</td>\n",
       "      <td>-0.208131</td>\n",
       "      <td>0</td>\n",
       "      <td>0</td>\n",
       "    </tr>\n",
       "    <tr>\n",
       "      <th>1</th>\n",
       "      <td>-0.249047</td>\n",
       "      <td>-0.252591</td>\n",
       "      <td>-0.208131</td>\n",
       "      <td>1</td>\n",
       "      <td>0</td>\n",
       "    </tr>\n",
       "  </tbody>\n",
       "</table>\n",
       "</div>"
      ],
      "text/plain": [
       "      Cases    Deaths  Recovered  Province  City\n",
       "0 -0.261099 -0.252591  -0.208131         0     0\n",
       "1 -0.249047 -0.252591  -0.208131         1     0"
      ]
     },
     "execution_count": 161,
     "metadata": {},
     "output_type": "execute_result"
    }
   ],
   "source": [
    "X.head(2)"
   ]
  },
  {
   "cell_type": "code",
   "execution_count": 162,
   "id": "867517cf",
   "metadata": {},
   "outputs": [],
   "source": [
    "# Define your sets\n",
    "foreign_set = {\"India\", \"USA\", \"China\", \"Dubai\", \"Syria\", \"KSA\", \"UK\", \"International Passenger\"}\n",
    "local_set   = {\"Tableeghi Jamaat\", \"Afghanistan\", \"Iran/Taftan\", \"Jail\",\n",
    "               \"Local - Social Contact\", \"Unknown\", \"Local - Covid Relative\"}\n",
    "\n",
    "# Create an empty list to store results\n",
    "travel_type_list = []\n",
    "\n",
    "# Loop through each row\n",
    "for value in df[\"Travel_history\"]:\n",
    "    if value in foreign_set:\n",
    "        travel_type_list.append(\"Foreign_Travel\")\n",
    "    elif value in local_set:\n",
    "        travel_type_list.append(\"Local_Travel\")\n",
    "    else:\n",
    "        travel_type_list.append(\"Local_Travel\")  # Default for unexpected values\n",
    "\n",
    "# Add list to DataFrame as new column\n",
    "df[\"Travel_History\"] = travel_type_list\n"
   ]
  },
  {
   "cell_type": "code",
   "execution_count": 163,
   "id": "80c72c07",
   "metadata": {},
   "outputs": [
    {
     "data": {
      "text/plain": [
       "Travel_History\n",
       "Local_Travel      1309\n",
       "Foreign_Travel      18\n",
       "Name: count, dtype: int64"
      ]
     },
     "execution_count": 163,
     "metadata": {},
     "output_type": "execute_result"
    }
   ],
   "source": [
    "df[\"Travel_History\"].value_counts()\n"
   ]
  },
  {
   "cell_type": "code",
   "execution_count": 164,
   "id": "5643d392",
   "metadata": {},
   "outputs": [],
   "source": [
    "y=df[\"Travel_History\"]"
   ]
  },
  {
   "cell_type": "code",
   "execution_count": 165,
   "id": "444a532c",
   "metadata": {},
   "outputs": [
    {
     "data": {
      "text/plain": [
       "0    Foreign_Travel\n",
       "1      Local_Travel\n",
       "Name: Travel_History, dtype: object"
      ]
     },
     "execution_count": 165,
     "metadata": {},
     "output_type": "execute_result"
    }
   ],
   "source": [
    "y.head(2)"
   ]
  },
  {
   "cell_type": "code",
   "execution_count": 166,
   "id": "958014be",
   "metadata": {},
   "outputs": [
    {
     "data": {
      "text/plain": [
       "array([0, 1, 0, ..., 1, 1, 1], shape=(1327,))"
      ]
     },
     "execution_count": 166,
     "metadata": {},
     "output_type": "execute_result"
    }
   ],
   "source": [
    "from sklearn.preprocessing import LabelEncoder\n",
    "label_encoder = LabelEncoder()\n",
    "# Encoding the 'Travel_History' column\n",
    "label_encoder.fit_transform(y)\n",
    "# y[\"Travel_History\"].astype(int)\n"
   ]
  },
  {
   "cell_type": "code",
   "execution_count": 167,
   "id": "3bcc621c",
   "metadata": {},
   "outputs": [
    {
     "data": {
      "text/plain": [
       "0    1\n",
       "1    0\n",
       "Name: Travel_History, dtype: int64"
      ]
     },
     "execution_count": 167,
     "metadata": {},
     "output_type": "execute_result"
    }
   ],
   "source": [
    "# maping the values\n",
    "y = y.map({\"Foreign_Travel\": 1, \"Local_Travel\": 0})\n",
    "y.head(2)"
   ]
  },
  {
   "cell_type": "code",
   "execution_count": 168,
   "id": "ff7157fb",
   "metadata": {},
   "outputs": [],
   "source": [
    "\n",
    "# X=df.drop(\"Travel_History\",axis=1)\n",
    "# Split the dataset into training and testing sets\n",
    "X_train, X_test, y_train, y_test = train_test_split(X, y, test_size=0.2, random_state=42)"
   ]
  },
  {
   "cell_type": "code",
   "execution_count": 169,
   "id": "835268ba",
   "metadata": {},
   "outputs": [
    {
     "data": {
      "text/plain": [
       "((1061, 5), (266, 5), (1061,), (266,))"
      ]
     },
     "execution_count": 169,
     "metadata": {},
     "output_type": "execute_result"
    }
   ],
   "source": [
    "X_train.shape, X_test.shape, y_train.shape, y_test.shape"
   ]
  },
  {
   "cell_type": "code",
   "execution_count": 170,
   "id": "e60727cd",
   "metadata": {},
   "outputs": [
    {
     "data": {
      "text/plain": [
       "Travel_History\n",
       "0    1047\n",
       "1      14\n",
       "Name: count, dtype: int64"
      ]
     },
     "execution_count": 170,
     "metadata": {},
     "output_type": "execute_result"
    }
   ],
   "source": [
    "y_train.value_counts()"
   ]
  },
  {
   "cell_type": "code",
   "execution_count": 171,
   "id": "a4bb0748",
   "metadata": {},
   "outputs": [
    {
     "name": "stderr",
     "output_type": "stream",
     "text": [
      "C:\\Users\\Abdul-Samad\\AppData\\Roaming\\Python\\Python313\\site-packages\\sklearn\\metrics\\_classification.py:1531: UndefinedMetricWarning: Precision is ill-defined and being set to 0.0 due to no predicted samples. Use `zero_division` parameter to control this behavior.\n",
      "  _warn_prf(average, modifier, f\"{metric.capitalize()} is\", len(result))\n",
      "C:\\Users\\Abdul-Samad\\AppData\\Roaming\\Python\\Python313\\site-packages\\sklearn\\metrics\\_classification.py:1531: UndefinedMetricWarning: Precision is ill-defined and being set to 0.0 due to no predicted samples. Use `zero_division` parameter to control this behavior.\n",
      "  _warn_prf(average, modifier, f\"{metric.capitalize()} is\", len(result))\n",
      "C:\\Users\\Abdul-Samad\\AppData\\Roaming\\Python\\Python313\\site-packages\\sklearn\\metrics\\_classification.py:1531: UndefinedMetricWarning: Precision is ill-defined and being set to 0.0 due to no predicted samples. Use `zero_division` parameter to control this behavior.\n",
      "  _warn_prf(average, modifier, f\"{metric.capitalize()} is\", len(result))\n",
      "C:\\Users\\Abdul-Samad\\AppData\\Roaming\\Python\\Python313\\site-packages\\sklearn\\metrics\\_classification.py:1531: UndefinedMetricWarning: Precision is ill-defined and being set to 0.0 due to no predicted samples. Use `zero_division` parameter to control this behavior.\n",
      "  _warn_prf(average, modifier, f\"{metric.capitalize()} is\", len(result))\n",
      "C:\\Users\\Abdul-Samad\\AppData\\Roaming\\Python\\Python313\\site-packages\\sklearn\\metrics\\_classification.py:1531: UndefinedMetricWarning: Precision is ill-defined and being set to 0.0 due to no predicted samples. Use `zero_division` parameter to control this behavior.\n",
      "  _warn_prf(average, modifier, f\"{metric.capitalize()} is\", len(result))\n"
     ]
    },
    {
     "data": {
      "text/html": [
       "<div>\n",
       "<style scoped>\n",
       "    .dataframe tbody tr th:only-of-type {\n",
       "        vertical-align: middle;\n",
       "    }\n",
       "\n",
       "    .dataframe tbody tr th {\n",
       "        vertical-align: top;\n",
       "    }\n",
       "\n",
       "    .dataframe thead th {\n",
       "        text-align: right;\n",
       "    }\n",
       "</style>\n",
       "<table border=\"1\" class=\"dataframe\">\n",
       "  <thead>\n",
       "    <tr style=\"text-align: right;\">\n",
       "      <th></th>\n",
       "      <th>Model</th>\n",
       "      <th>Accuracy</th>\n",
       "      <th>F1</th>\n",
       "      <th>Precision</th>\n",
       "      <th>Recall</th>\n",
       "    </tr>\n",
       "  </thead>\n",
       "  <tbody>\n",
       "    <tr>\n",
       "      <th>0</th>\n",
       "      <td>LogisticRegression</td>\n",
       "      <td>0.984962</td>\n",
       "      <td>0.0</td>\n",
       "      <td>0.0</td>\n",
       "      <td>0.0</td>\n",
       "    </tr>\n",
       "    <tr>\n",
       "      <th>1</th>\n",
       "      <td>SVC</td>\n",
       "      <td>0.984962</td>\n",
       "      <td>0.0</td>\n",
       "      <td>0.0</td>\n",
       "      <td>0.0</td>\n",
       "    </tr>\n",
       "    <tr>\n",
       "      <th>2</th>\n",
       "      <td>DecisionTreeClassifier</td>\n",
       "      <td>0.984962</td>\n",
       "      <td>0.0</td>\n",
       "      <td>0.0</td>\n",
       "      <td>0.0</td>\n",
       "    </tr>\n",
       "    <tr>\n",
       "      <th>3</th>\n",
       "      <td>RandomForestClassifier</td>\n",
       "      <td>0.984962</td>\n",
       "      <td>0.0</td>\n",
       "      <td>0.0</td>\n",
       "      <td>0.0</td>\n",
       "    </tr>\n",
       "    <tr>\n",
       "      <th>4</th>\n",
       "      <td>KNeighborsClassifier</td>\n",
       "      <td>0.984962</td>\n",
       "      <td>0.0</td>\n",
       "      <td>0.0</td>\n",
       "      <td>0.0</td>\n",
       "    </tr>\n",
       "  </tbody>\n",
       "</table>\n",
       "</div>"
      ],
      "text/plain": [
       "                    Model  Accuracy   F1  Precision  Recall\n",
       "0      LogisticRegression  0.984962  0.0        0.0     0.0\n",
       "1                     SVC  0.984962  0.0        0.0     0.0\n",
       "2  DecisionTreeClassifier  0.984962  0.0        0.0     0.0\n",
       "3  RandomForestClassifier  0.984962  0.0        0.0     0.0\n",
       "4    KNeighborsClassifier  0.984962  0.0        0.0     0.0"
      ]
     },
     "execution_count": 171,
     "metadata": {},
     "output_type": "execute_result"
    }
   ],
   "source": [
    "models = [LogisticRegression(), SVC(), DecisionTreeClassifier(), RandomForestClassifier(), KNeighborsClassifier()]\n",
    "models_name = [\"LogisticRegression\", \"SVC\", \"DecisionTreeClassifier\", \"RandomForestClassifier\", \"KNeighborsClassifier\"]\n",
    "models_score = []\n",
    "models_score=[]\n",
    "for model,models_name in zip(models,models_name):\n",
    "    model.fit(X_train,y_train)\n",
    "    y_pred=model.predict(X_test)\n",
    "    accuracy=accuracy_score(y_test,y_pred)\n",
    "    f1=f1_score(y_test,y_pred)\n",
    "    precision=precision_score(y_test,y_pred)\n",
    "    recall=recall_score(y_test,y_pred)\n",
    "    models_score.append([models_name,accuracy,f1,precision,recall])\n",
    "models_score=pd.DataFrame(models_score,columns=[\"Model\",\"Accuracy\",\"F1\",\"Precision\",\"Recall\"]) # convert to dataframe\n",
    "models_score.sort_values(by=\"Accuracy\",ascending=False,inplace=True) # sort by accuracy\n",
    "models_score.reset_index(drop=True,inplace=True) # reset index\n",
    "models_score\n",
    "\n"
   ]
  }
 ],
 "metadata": {
  "kernelspec": {
   "display_name": "Python 3",
   "language": "python",
   "name": "python3"
  },
  "language_info": {
   "codemirror_mode": {
    "name": "ipython",
    "version": 3
   },
   "file_extension": ".py",
   "mimetype": "text/x-python",
   "name": "python",
   "nbconvert_exporter": "python",
   "pygments_lexer": "ipython3",
   "version": "3.13.1"
  }
 },
 "nbformat": 4,
 "nbformat_minor": 5
}

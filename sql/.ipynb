{
 "cells": [
  {
   "cell_type": "markdown",
   "metadata": {},
   "source": [
    "what is sql ?\n",
    "structure query langue \n",
    "designe for relational data base management system\n",
    "used for database creation ,fetching ,rows and modifiing rows etc\n",
    "daily bases work store in database and there are two types of data base one is relational and another is non relational\n",
    "relational database is used for storing data in table format and non relational database is used for storing data\n",
    "SQL used for handling  to RDMS .."
   ]
  },
  {
   "cell_type": "markdown",
   "metadata": {},
   "source": [
    "there are four commands in it \n",
    "DDL (Data Definition Language) - used to create, modify and delete alter and drop \n",
    "\n",
    "DCL (Data Control Language) - used to control access to other develpoer GRANT AND REVOKE\n",
    "\n",
    "DML (Data Manipulation Language) - used to perform operations like INSERT, UPDATE, DELETE and select\n",
    "\n",
    "TCL (Transaction control languge ) in ths COMMIT AND ROLLBACK "
   ]
  },
  {
   "cell_type": "markdown",
   "metadata": {},
   "source": [
    "my role as a data scientist in sql is that \n",
    "company ka database ma a kar wahan say data ko extract karna hai then analysis karna \n",
    "join hamary yun kam ka hain ka q k hamari requetment ka data diffrent diffrent tables ma hota ha to join perform kartay hain \n",
    "inner join ,outer join ,left join ,right join ,full join\n"
   ]
  },
  {
   "cell_type": "markdown",
   "metadata": {},
   "source": [
    "what excatly should i learn ?\n",
    "\n",
    "DML COMMANDS     INSERT,DETELE SELECT UPDATE WHERE ORDERBY \n",
    "\n",
    "SQL join \n",
    "\n",
    "subqueries and temp tables \n",
    "\n",
    "SQL CASES \n",
    "\n",
    "store procuder and function \n",
    "\n",
    "window function    this is most important and use at analysis time "
   ]
  },
  {
   "cell_type": "markdown",
   "metadata": {},
   "source": [
    "what excatly i learn ?\n",
    "DATA types \n",
    "\n",
    "Normlization and denormalization \n",
    "\n",
    "indexing \n",
    "\n",
    "Query optimizing practice \n",
    "\n",
    "schma design practice(creating database and table mostly use it when data ko denormalized kar reay hon ) "
   ]
  },
  {
   "cell_type": "markdown",
   "metadata": {},
   "source": [
    "ER diagram     this is used for non technical users jis ko database ka baray ma info nea ha i used for that lucid chart\n",
    "\n",
    "\n",
    "and select entities for ER DIAGRAM like food ,orders ,customer restruratnt \n",
    "\n",
    "set the datatypes of the entities like int ,varchar ,date etc\n",
    "\n",
    "primary key uniquely identify hoti ha in each row in a table .............and its the combination of not null and unique id no,cnic number password number\n",
    "\n",
    "foreieng key links to diffrent rows and differnt tables join \n",
    "\n",
    "index ......create and reteive data from database quikly"
   ]
  },
  {
   "cell_type": "markdown",
   "metadata": {},
   "source": [
    "constraints \n",
    "\n",
    "NOT NULL: ys blanck nea chorta mostly id ko kartay hain \n",
    "\n",
    "UNIQUE : no duplicate value allowed \n",
    "\n",
    "PRIMARY KEY  :  means acces within a row it can be 1 or 2 combination like id and email \n",
    "\n",
    "CHECK:  value can be checked like age should be greater than 18\n",
    "\n",
    "DEFAULT :current jo bi chal raha ho\n",
    "\n",
    "AUTOINCREMENT : value ko increase karta ha \n",
    "\n"
   ]
  },
  {
   "cell_type": "markdown",
   "metadata": {},
   "source": [
    "last DDL COMMAND \n",
    "ALTER \n",
    "1. ADD \n",
    "2. DEL\n",
    "3. MODI COL\n",
    "4. ADD /REMOVE CONSTRAINT "
   ]
  },
  {
   "cell_type": "markdown",
   "metadata": {},
   "source": [
    "DML COMMAND \n",
    "INSERT we can insert the data in our table \n",
    "DEL\n",
    "RETREIVE \n",
    "1. all colums\n",
    "2. filter cols   select Survived,Name,SibSp FROM titanic_1;\n",
    "\n",
    "3. alis as    SELECT Sex AS Gender,Name AS Recog FROM titanic_1;\n",
    "\n",
    "4. expression \n",
    "5. constant \n",
    "6. Distinct single column    UNIQUE COMBINATION FETCH KARNA \n",
    "7. Distinct multi column\n",
    "8. comparision operator it is used with WHERE clause select * FROM titanic_1 WHERE Age > 20;\n",
    "9. ADN /OR/BETWEEN \n",
    "10. IN /NOT IN \n",
    "11. WILDCARD \n",
    "12. ORDER OF QUERY EXECUATION   SELECT Age FROM titanic_1 GROUP BY Age ORDER BY Age DESC LIMIT 5;\n",
    "13. CASE here when not if  and for printing use THEN ELSE END\n",
    "UPDATE "
   ]
  },
  {
   "cell_type": "markdown",
   "metadata": {},
   "source": [
    "jOINS \n",
    "1. CARTISION PRODUCT     use CROSS here \n",
    "2. inner join \n",
    "3. outer join \n",
    "4. right join \n",
    "5. left join \n",
    "6. UNION \n",
    "7. SELF JOIN "
   ]
  },
  {
   "cell_type": "markdown",
   "metadata": {},
   "source": [
    "# Codanics sql series "
   ]
  },
  {
   "cell_type": "markdown",
   "metadata": {},
   "source": [
    "contraint are the set the rule in our datset means graeter than less than condition null or not null "
   ]
  }
 ],
 "metadata": {
  "language_info": {
   "name": "python"
  }
 },
 "nbformat": 4,
 "nbformat_minor": 2
}
